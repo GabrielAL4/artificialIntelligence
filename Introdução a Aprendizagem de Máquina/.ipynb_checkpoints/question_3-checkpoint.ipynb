{
 "cells": [
  {
   "cell_type": "markdown",
   "id": "f0e1e289",
   "metadata": {},
   "source": [
    "# Lidar com dados faltantes é essencial na preparação de dados para machine learning. Isso envolve identificar, remover ou preencher valores ausentes de forma apropriada. A escolha das técnicas depende da quantidade de dados ausentes e da natureza do problema."
   ]
  },
  {
   "cell_type": "markdown",
   "id": "a0094e3f",
   "metadata": {},
   "source": [
    "# Abaixo seguem técnicas que auxiliam em possíveis soluções"
   ]
  },
  {
   "cell_type": "markdown",
   "id": "d69d8ebb",
   "metadata": {},
   "source": [
    "# Identificação de dados faltantes"
   ]
  },
  {
   "cell_type": "code",
   "execution_count": 6,
   "id": "f6d9ee15",
   "metadata": {},
   "outputs": [
    {
     "name": "stdout",
     "output_type": "stream",
     "text": [
      "DataFrame Original:\n",
      "   Feature1  Feature2  Feature3\n",
      "0       1.0       NaN         1\n",
      "1       2.0       2.0         2\n",
      "2       3.0       3.0         3\n",
      "3       NaN       4.0         4\n",
      "4       5.0       5.0         5\n",
      "5       6.0       6.0         6\n",
      "\n",
      "Dados Faltantes (True indica valores ausentes):\n",
      "   Feature1  Feature2  Feature3\n",
      "0     False      True     False\n",
      "1     False     False     False\n",
      "2     False     False     False\n",
      "3      True     False     False\n",
      "4     False     False     False\n",
      "5     False     False     False\n",
      "\n",
      "DataFrame após Remover Linhas com Dados Faltantes:\n",
      "   Feature1  Feature2  Feature3\n",
      "1       2.0       2.0         2\n",
      "2       3.0       3.0         3\n",
      "4       5.0       5.0         5\n",
      "5       6.0       6.0         6\n",
      "\n",
      "DataFrame após Remover Colunas com a Maioria de Valores Ausentes:\n",
      "   Feature1  Feature2  Feature3\n",
      "0       1.0       NaN         1\n",
      "1       2.0       2.0         2\n",
      "2       3.0       3.0         3\n",
      "3       NaN       4.0         4\n",
      "4       5.0       5.0         5\n",
      "5       6.0       6.0         6\n"
     ]
    }
   ],
   "source": [
    "import pandas as pd\n",
    "\n",
    "data = {\n",
    "    'Feature1': [1, 2, 3, None, 5, 6],\n",
    "    'Feature2': [None, 2, 3, 4, 5, 6],\n",
    "    'Feature3': [1, 2, 3, 4, 5, 6]\n",
    "}\n",
    "\n",
    "df = pd.DataFrame(data)\n",
    "\n",
    "missing_data = df.isnull()\n",
    "\n",
    "df_without_missing_rows = df.dropna()\n",
    "\n",
    "threshold = len(df) * 0.8  \n",
    "df_without_missing_columns = df.dropna(axis=1, thresh=threshold)\n",
    "\n",
    "print(\"DataFrame Original:\")\n",
    "print(df)\n",
    "\n",
    "print(\"\\nDados Faltantes (True indica valores ausentes):\")\n",
    "print(missing_data)\n",
    "\n",
    "print(\"\\nDataFrame após Remover Linhas com Dados Faltantes:\")\n",
    "print(df_without_missing_rows)\n",
    "\n",
    "print(\"\\nDataFrame após Remover Colunas com a Maioria de Valores Ausentes:\")\n",
    "print(df_without_missing_columns)"
   ]
  },
  {
   "cell_type": "markdown",
   "id": "783a8a20",
   "metadata": {},
   "source": [
    "# Preenchimento de dados faltantes"
   ]
  },
  {
   "cell_type": "code",
   "execution_count": 7,
   "id": "25ab7f23",
   "metadata": {},
   "outputs": [
    {
     "name": "stdout",
     "output_type": "stream",
     "text": [
      "DataFrame Original:\n",
      "   Feature1  Feature2  Feature3\n",
      "0       1.0       NaN       1.0\n",
      "1       2.0       2.0       2.0\n",
      "2       3.0       3.0       3.0\n",
      "3       NaN       4.0       4.0\n",
      "4       5.0       5.0       5.0\n",
      "5       6.0       6.0       NaN\n",
      "\n",
      "DataFrame após Preenchimento com Média:\n",
      "   Feature1  Feature2  Feature3\n",
      "0       1.0       4.0       1.0\n",
      "1       2.0       2.0       2.0\n",
      "2       3.0       3.0       3.0\n",
      "3       3.4       4.0       4.0\n",
      "4       5.0       5.0       5.0\n",
      "5       6.0       6.0       3.0\n",
      "\n",
      "DataFrame após Preenchimento com K-Nearest Neighbors (KNN):\n",
      "   Feature1  Feature2  Feature3\n",
      "0       1.0       2.5       1.0\n",
      "1       2.0       2.0       2.0\n",
      "2       3.0       3.0       3.0\n",
      "3       4.0       4.0       4.0\n",
      "4       5.0       5.0       5.0\n",
      "5       6.0       6.0       4.5\n"
     ]
    }
   ],
   "source": [
    "import pandas as pd\n",
    "from sklearn.impute import SimpleImputer\n",
    "from sklearn.impute import KNNImputer\n",
    "\n",
    "data = {\n",
    "    'Feature1': [1, 2, 3, None, 5, 6],\n",
    "    'Feature2': [None, 2, 3, 4, 5, 6],\n",
    "    'Feature3': [1, 2, 3, 4, 5, None]\n",
    "}\n",
    "\n",
    "df = pd.DataFrame(data)\n",
    "\n",
    "imputer = SimpleImputer(strategy='mean')\n",
    "df_mean_imputed = imputer.fit_transform(df)\n",
    "df_mean_imputed = pd.DataFrame(df_mean_imputed, columns=df.columns)\n",
    "\n",
    "knn_imputer = KNNImputer(n_neighbors=2)\n",
    "df_knn_imputed = knn_imputer.fit_transform(df)\n",
    "df_knn_imputed = pd.DataFrame(df_knn_imputed, columns=df.columns)\n",
    "\n",
    "print(\"DataFrame Original:\")\n",
    "print(df)\n",
    "\n",
    "print(\"\\nDataFrame após Preenchimento com Média:\")\n",
    "print(df_mean_imputed)\n",
    "\n",
    "print(\"\\nDataFrame após Preenchimento com K-Nearest Neighbors (KNN):\")\n",
    "print(df_knn_imputed)"
   ]
  },
  {
   "cell_type": "markdown",
   "id": "5e1b661b",
   "metadata": {},
   "source": [
    "# Consideração do significado de dados faltantes\n",
    "### Vamos considerar um exemplo em que os dados faltantes podem ter significado e como criar uma variável indicadora para representar a ausência de um valor. Suponhamos que estamos trabalhando com um conjunto de dados de registros de pacientes em um hospital, e estamos interessados nas informações sobre o histórico de tabagismo dos pacientes. No entanto, muitos pacientes não forneceram essas informações voluntariamente."
   ]
  },
  {
   "cell_type": "code",
   "execution_count": 8,
   "id": "b5e9b6fc",
   "metadata": {},
   "outputs": [
    {
     "name": "stdout",
     "output_type": "stream",
     "text": [
      "DataFrame Original:\n",
      "   Idade  Histórico_Tabagismo  Tabagismo_Desconhecido\n",
      "0     45                  1.0                       0\n",
      "1     32                  0.0                       0\n",
      "2     55                  NaN                       1\n",
      "3     68                  1.0                       0\n",
      "4     26                  NaN                       1\n",
      "5     41                  NaN                       1\n",
      "6     63                  0.0                       0\n",
      "7     37                  NaN                       1\n"
     ]
    }
   ],
   "source": [
    "import pandas as pd\n",
    "import numpy as np\n",
    "\n",
    "data = {\n",
    "    'Idade': [45, 32, 55, 68, 26, 41, 63, 37],\n",
    "    'Histórico_Tabagismo': [1, 0, np.nan, 1, np.nan, np.nan, 0, np.nan]\n",
    "}\n",
    "\n",
    "df = pd.DataFrame(data)\n",
    "\n",
    "df['Tabagismo_Desconhecido'] = df['Histórico_Tabagismo'].isnull().astype(int)\n",
    "\n",
    "print(\"DataFrame Original:\")\n",
    "print(df)"
   ]
  }
 ],
 "metadata": {
  "kernelspec": {
   "display_name": "Python 3 (ipykernel)",
   "language": "python",
   "name": "python3"
  },
  "language_info": {
   "codemirror_mode": {
    "name": "ipython",
    "version": 3
   },
   "file_extension": ".py",
   "mimetype": "text/x-python",
   "name": "python",
   "nbconvert_exporter": "python",
   "pygments_lexer": "ipython3",
   "version": "3.11.4"
  }
 },
 "nbformat": 4,
 "nbformat_minor": 5
}
