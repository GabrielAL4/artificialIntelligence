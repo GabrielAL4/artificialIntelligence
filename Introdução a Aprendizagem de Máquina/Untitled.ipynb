{
 "cells": [
  {
   "cell_type": "markdown",
   "id": "8f986675",
   "metadata": {},
   "source": [
    "# *Linear Regression*\n",
    "### Na análise de dados e na construção de modelos preditivos, a regressão linear é uma ferramenta fundamental. Neste contexto, a divisão dos dados em conjuntos de treinamento e teste, bem como a avaliação do desempenho do modelo, desempenham um papel crucial. Uma métrica frequentemente utilizada para avaliar o ajuste do modelo é o coeficiente de determinação, ou R², que varia de 0 a 1. Através deste coeficiente, podemos medir o quão bem o modelo explica a variabilidade nos dados observados. Neste contexto, exploraremos a importância da divisão de dados, do treinamento de um modelo de regressão linear e da avaliação do seu desempenho usando o R²."
   ]
  },
  {
   "cell_type": "markdown",
   "id": "5d0bcdf8",
   "metadata": {},
   "source": [
    "# *Treinamento de Regressão Linear*\n",
    "### O treinamento de um modelo de regressão linear envolve o uso de dados de treinamento para ajustar uma linha ou hiperplano que melhor se adapte aos dados, minimizando o erro entre as previsões e os valores reais."
   ]
  },
  {
   "cell_type": "code",
   "execution_count": 2,
   "id": "b442e700",
   "metadata": {
    "scrolled": true
   },
   "outputs": [
    {
     "data": {
      "text/html": [
       "<style>#sk-container-id-1 {color: black;}#sk-container-id-1 pre{padding: 0;}#sk-container-id-1 div.sk-toggleable {background-color: white;}#sk-container-id-1 label.sk-toggleable__label {cursor: pointer;display: block;width: 100%;margin-bottom: 0;padding: 0.3em;box-sizing: border-box;text-align: center;}#sk-container-id-1 label.sk-toggleable__label-arrow:before {content: \"▸\";float: left;margin-right: 0.25em;color: #696969;}#sk-container-id-1 label.sk-toggleable__label-arrow:hover:before {color: black;}#sk-container-id-1 div.sk-estimator:hover label.sk-toggleable__label-arrow:before {color: black;}#sk-container-id-1 div.sk-toggleable__content {max-height: 0;max-width: 0;overflow: hidden;text-align: left;background-color: #f0f8ff;}#sk-container-id-1 div.sk-toggleable__content pre {margin: 0.2em;color: black;border-radius: 0.25em;background-color: #f0f8ff;}#sk-container-id-1 input.sk-toggleable__control:checked~div.sk-toggleable__content {max-height: 200px;max-width: 100%;overflow: auto;}#sk-container-id-1 input.sk-toggleable__control:checked~label.sk-toggleable__label-arrow:before {content: \"▾\";}#sk-container-id-1 div.sk-estimator input.sk-toggleable__control:checked~label.sk-toggleable__label {background-color: #d4ebff;}#sk-container-id-1 div.sk-label input.sk-toggleable__control:checked~label.sk-toggleable__label {background-color: #d4ebff;}#sk-container-id-1 input.sk-hidden--visually {border: 0;clip: rect(1px 1px 1px 1px);clip: rect(1px, 1px, 1px, 1px);height: 1px;margin: -1px;overflow: hidden;padding: 0;position: absolute;width: 1px;}#sk-container-id-1 div.sk-estimator {font-family: monospace;background-color: #f0f8ff;border: 1px dotted black;border-radius: 0.25em;box-sizing: border-box;margin-bottom: 0.5em;}#sk-container-id-1 div.sk-estimator:hover {background-color: #d4ebff;}#sk-container-id-1 div.sk-parallel-item::after {content: \"\";width: 100%;border-bottom: 1px solid gray;flex-grow: 1;}#sk-container-id-1 div.sk-label:hover label.sk-toggleable__label {background-color: #d4ebff;}#sk-container-id-1 div.sk-serial::before {content: \"\";position: absolute;border-left: 1px solid gray;box-sizing: border-box;top: 0;bottom: 0;left: 50%;z-index: 0;}#sk-container-id-1 div.sk-serial {display: flex;flex-direction: column;align-items: center;background-color: white;padding-right: 0.2em;padding-left: 0.2em;position: relative;}#sk-container-id-1 div.sk-item {position: relative;z-index: 1;}#sk-container-id-1 div.sk-parallel {display: flex;align-items: stretch;justify-content: center;background-color: white;position: relative;}#sk-container-id-1 div.sk-item::before, #sk-container-id-1 div.sk-parallel-item::before {content: \"\";position: absolute;border-left: 1px solid gray;box-sizing: border-box;top: 0;bottom: 0;left: 50%;z-index: -1;}#sk-container-id-1 div.sk-parallel-item {display: flex;flex-direction: column;z-index: 1;position: relative;background-color: white;}#sk-container-id-1 div.sk-parallel-item:first-child::after {align-self: flex-end;width: 50%;}#sk-container-id-1 div.sk-parallel-item:last-child::after {align-self: flex-start;width: 50%;}#sk-container-id-1 div.sk-parallel-item:only-child::after {width: 0;}#sk-container-id-1 div.sk-dashed-wrapped {border: 1px dashed gray;margin: 0 0.4em 0.5em 0.4em;box-sizing: border-box;padding-bottom: 0.4em;background-color: white;}#sk-container-id-1 div.sk-label label {font-family: monospace;font-weight: bold;display: inline-block;line-height: 1.2em;}#sk-container-id-1 div.sk-label-container {text-align: center;}#sk-container-id-1 div.sk-container {/* jupyter's `normalize.less` sets `[hidden] { display: none; }` but bootstrap.min.css set `[hidden] { display: none !important; }` so we also need the `!important` here to be able to override the default hidden behavior on the sphinx rendered scikit-learn.org. See: https://github.com/scikit-learn/scikit-learn/issues/21755 */display: inline-block !important;position: relative;}#sk-container-id-1 div.sk-text-repr-fallback {display: none;}</style><div id=\"sk-container-id-1\" class=\"sk-top-container\"><div class=\"sk-text-repr-fallback\"><pre>LinearRegression()</pre><b>In a Jupyter environment, please rerun this cell to show the HTML representation or trust the notebook. <br />On GitHub, the HTML representation is unable to render, please try loading this page with nbviewer.org.</b></div><div class=\"sk-container\" hidden><div class=\"sk-item\"><div class=\"sk-estimator sk-toggleable\"><input class=\"sk-toggleable__control sk-hidden--visually\" id=\"sk-estimator-id-1\" type=\"checkbox\" checked><label for=\"sk-estimator-id-1\" class=\"sk-toggleable__label sk-toggleable__label-arrow\">LinearRegression</label><div class=\"sk-toggleable__content\"><pre>LinearRegression()</pre></div></div></div></div></div>"
      ],
      "text/plain": [
       "LinearRegression()"
      ]
     },
     "execution_count": 2,
     "metadata": {},
     "output_type": "execute_result"
    }
   ],
   "source": [
    "# Importando as bibliotecas necessárias\n",
    "import numpy as np\n",
    "import matplotlib.pyplot as plt\n",
    "from sklearn.linear_model import LinearRegression\n",
    "from sklearn.model_selection import train_test_split\n",
    "\n",
    "# Gerando dados de exemplo\n",
    "np.random.seed(42)\n",
    "X = 2 * np.random.rand(100, 1)\n",
    "y = 4 + 3 * X + np.random.randn(100, 1)\n",
    "\n",
    "# Dividindo os dados em conjuntos de treinamento e teste\n",
    "X_train, X_test, y_train, y_test = train_test_split(X, y, test_size=0.2, random_state=42)\n",
    "\n",
    "# Criando um modelo de regressão linear\n",
    "model = LinearRegression()\n",
    "\n",
    "# Treinando o modelo\n",
    "model.fit(X_train, y_train)"
   ]
  },
  {
   "cell_type": "markdown",
   "id": "44828965",
   "metadata": {},
   "source": [
    "# *Divisão de Dados*\n",
    "### Os dados são divididos em conjuntos de treinamento e teste para avaliar o desempenho do modelo. O conjunto de treinamento é usado para treinar o modelo, enquanto o conjunto de teste é usado para avaliar a precisão das previsões."
   ]
  },
  {
   "cell_type": "code",
   "execution_count": 3,
   "id": "fbbcaa57",
   "metadata": {},
   "outputs": [],
   "source": [
    "# Importando as bibliotecas necessárias\n",
    "from sklearn.model_selection import train_test_split\n",
    "\n",
    "# Gerando dados de exemplo\n",
    "np.random.seed(42)\n",
    "X = 2 * np.random.rand(100, 1)\n",
    "y = 4 + 3 * X + np.random.randn(100, 1)\n",
    "\n",
    "# Dividindo os dados em conjuntos de treinamento e teste\n",
    "X_train, X_test, y_train, y_test = train_test_split(X, y, test_size=0.2, random_state=42)"
   ]
  },
  {
   "cell_type": "markdown",
   "id": "3e4f9c35",
   "metadata": {},
   "source": [
    "# *Métrica R² (Coeficiente de Determinação)*\n",
    "### O R² é uma métrica comumente usada para avaliar o ajuste do modelo. Varia de 0 a 1, onde 1 indica um ajuste perfeito. O R² mede a proporção da variabilidade explicada pelo modelo em relação à variabilidade total dos dados."
   ]
  },
  {
   "cell_type": "code",
   "execution_count": 4,
   "id": "14831d87",
   "metadata": {},
   "outputs": [
    {
     "name": "stdout",
     "output_type": "stream",
     "text": [
      "Coeficiente de Determinação (R²): 0.8072059636181392\n"
     ]
    }
   ],
   "source": [
    "# Importando as bibliotecas necessárias\n",
    "from sklearn.metrics import r2_score\n",
    "\n",
    "# Fazendo previsões no conjunto de teste\n",
    "y_pred = model.predict(X_test)\n",
    "\n",
    "# Calculando o coeficiente de determinação (R²)\n",
    "r2 = r2_score(y_test, y_pred)\n",
    "\n",
    "# Imprimindo o resultado\n",
    "print(f'Coeficiente de Determinação (R²): {r2}')"
   ]
  },
  {
   "cell_type": "markdown",
   "id": "abe2fe7a",
   "metadata": {},
   "source": [
    "# *Avaliação do Modelo*\n",
    "### Após o treinamento, o modelo é avaliado no conjunto de teste, e as métricas, como R² e RMSE, são usadas para determinar quão bem o modelo faz previsões em relação aos valores reais. O R² próximo a 1 indica um bom ajuste do modelo aos dados."
   ]
  },
  {
   "cell_type": "code",
   "execution_count": 5,
   "id": "2eeb29c3",
   "metadata": {},
   "outputs": [
    {
     "name": "stdout",
     "output_type": "stream",
     "text": [
      "Erro Médio Quadrático (MSE): 0.6536995137170021\n",
      "Coeficiente de Determinação (R²): 0.8072059636181392\n"
     ]
    }
   ],
   "source": [
    "# Importando as bibliotecas necessárias\n",
    "from sklearn.metrics import mean_squared_error, r2_score\n",
    "\n",
    "# Fazendo previsões no conjunto de teste\n",
    "y_pred = model.predict(X_test)\n",
    "\n",
    "# Calculando o erro médio quadrático\n",
    "mse = mean_squared_error(y_test, y_pred)\n",
    "\n",
    "# Calculando o coeficiente de determinação (R²)\n",
    "r2 = r2_score(y_test, y_pred)\n",
    "\n",
    "# Imprimindo os resultados\n",
    "print(f'Erro Médio Quadrático (MSE): {mse}')\n",
    "print(f'Coeficiente de Determinação (R²): {r2}')"
   ]
  },
  {
   "cell_type": "markdown",
   "id": "08bd3f01",
   "metadata": {},
   "source": [
    "# A regressão linear, apesar de ser um método simples e amplamente utilizado, tem algumas limitações. Algumas delas são:"
   ]
  },
  {
   "cell_type": "markdown",
   "id": "3aed287c",
   "metadata": {},
   "source": [
    "# Assunção de Linearidade: A regressão linear assume uma relação linear entre as variáveis independentes e dependentes. Se a relação é não linear, a regressão linear pode não ser capaz de modelar adequadamente os dados."
   ]
  },
  {
   "cell_type": "code",
   "execution_count": null,
   "id": "468fd62a",
   "metadata": {},
   "outputs": [],
   "source": [
    "import numpy as np\n",
    "import matplotlib.pyplot as plt\n",
    "from sklearn.linear_model import LinearRegression\n",
    "\n",
    "# Gerando dados não lineares\n",
    "np.random.seed(42)\n",
    "X = 2 * np.random.rand(100, 1)\n",
    "y = 4 + 3 * X + 0.5 * X**2 + np.random.randn(100, 1)\n",
    "\n",
    "# Ajustando um modelo de regressão linear\n",
    "model = LinearRegression()\n",
    "model.fit(X, y)\n",
    "\n",
    "# Plotando os dados e a linha de regressão\n",
    "plt.scatter(X, y, color='black')\n",
    "plt.plot(X, model.predict(X), color='blue', linewidth=3)\n",
    "plt.title('Regressão Linear em Dados Não Lineares')\n",
    "plt.show()"
   ]
  },
  {
   "cell_type": "markdown",
   "id": "7d2bc117",
   "metadata": {},
   "source": [
    "# Sensibilidade a Outliers: A presença de outliers nos dados pode ter um impacto significativo nos coeficientes da regressão linear e, consequentemente, nas previsões do modelo."
   ]
  },
  {
   "cell_type": "code",
   "execution_count": null,
   "id": "7c3da1ad",
   "metadata": {},
   "outputs": [],
   "source": [
    "import numpy as np\n",
    "import matplotlib.pyplot as plt\n",
    "from sklearn.linear_model import LinearRegression\n",
    "\n",
    "# Gerando dados com um outlier\n",
    "np.random.seed(42)\n",
    "X = 2 * np.random.rand(100, 1)\n",
    "y = 4 + 3 * X + np.random.randn(100, 1)\n",
    "y[95] += 20  # Adicionando um outlier\n",
    "\n",
    "# Ajustando um modelo de regressão linear\n",
    "model = LinearRegression()\n",
    "model.fit(X, y)\n",
    "\n",
    "# Plotando os dados e a linha de regressão\n",
    "plt.scatter(X, y, color='black')\n",
    "plt.plot(X, model.predict(X), color='blue', linewidth=3)\n",
    "plt.title('Regressão Linear Sensível a Outliers')\n",
    "plt.show()"
   ]
  },
  {
   "cell_type": "markdown",
   "id": "d147ea98",
   "metadata": {},
   "source": [
    "# Assunção de Homocedasticidade: A regressão linear assume homocedasticidade, o que significa que a variância dos erros é constante em todos os níveis da variável independente. Se a variância dos erros é heterocedástica, os resultados da regressão podem ser enviesados."
   ]
  },
  {
   "cell_type": "code",
   "execution_count": null,
   "id": "c9d9bd68",
   "metadata": {},
   "outputs": [],
   "source": [
    "import numpy as np\n",
    "import matplotlib.pyplot as plt\n",
    "from sklearn.linear_model import LinearRegression\n",
    "\n",
    "# Gerando dados com variância crescente\n",
    "np.random.seed(42)\n",
    "X = 2 * np.random.rand(100, 1)\n",
    "y = 4 + 3 * X + np.random.randn(100, 1) + 0.5 * X**2\n",
    "\n",
    "# Ajustando um modelo de regressão linear\n",
    "model = LinearRegression()\n",
    "model.fit(X, y)\n",
    "\n",
    "# Plotando os dados e a linha de regressão\n",
    "plt.scatter(X, y, color='black')\n",
    "plt.plot(X, model.predict(X), color='blue', linewidth=3)\n",
    "plt.title('Regressão Linear com Heterocedasticidade')\n",
    "plt.show()"
   ]
  },
  {
   "cell_type": "markdown",
   "id": "66009af8",
   "metadata": {},
   "source": [
    "# Multicolinearidade: A regressão linear pode ser sensível à multicolinearidade, que ocorre quando duas ou mais variáveis independentes estão altamente correlacionadas. Isso pode levar a coeficientes instáveis e difíceis de interpretar."
   ]
  },
  {
   "cell_type": "code",
   "execution_count": null,
   "id": "7561029a",
   "metadata": {},
   "outputs": [],
   "source": [
    "import numpy as np\n",
    "import matplotlib.pyplot as plt\n",
    "from sklearn.linear_model import LinearRegression\n",
    "\n",
    "# Gerando dados com multicolinearidade\n",
    "np.random.seed(42)\n",
    "X1 = 2 * np.random.rand(100, 1)\n",
    "X2 = 0.5 * X1 + np.random.randn(100, 1)\n",
    "y = 4 + 3 * X1 + 2 * X2 + np.random.randn(100, 1)\n",
    "\n",
    "# Ajustando um modelo de regressão linear\n",
    "model = LinearRegression()\n",
    "model.fit(np.column_stack((X1, X2)), y)\n",
    "\n",
    "# Não é possível visualizar a multicolinearidade diretamente em um gráfico\n",
    "\n",
    "# Coeficientes estimados\n",
    "print(f'Coeficientes: {model.coef_}')"
   ]
  },
  {
   "cell_type": "markdown",
   "id": "ca5e8953",
   "metadata": {},
   "source": [
    "# Assunção de Normalidade dos Resíduos: A regressão linear assume que os resíduos (diferenças entre os valores reais e previstos) são normalmente distribuídos. Se os resíduos não seguem uma distribuição normal, as inferências estatísticas podem ser afetadas."
   ]
  },
  {
   "cell_type": "code",
   "execution_count": null,
   "id": "02a67e80",
   "metadata": {},
   "outputs": [],
   "source": [
    "import numpy as np\n",
    "import matplotlib.pyplot as plt\n",
    "from sklearn.linear_model import LinearRegression\n",
    "\n",
    "# Gerando dados com resíduos não normalmente distribuídos\n",
    "np.random.seed(42)\n",
    "X = 2 * np.random.rand(100, 1)\n",
    "y = 4 + 3 * X + np.random.exponential(scale=1, size=(100, 1))\n",
    "\n",
    "# Ajustando um modelo de regressão linear\n",
    "model = LinearRegression()\n",
    "model.fit(X, y)\n",
    "\n",
    "# Obtendo os resíduos\n",
    "residuals = y - model.predict(X)\n",
    "\n",
    "# Histograma dos resíduos\n",
    "plt.hist(residuals, bins=20, color='blue', edgecolor='black')\n",
    "plt.title('Histograma dos Resíduos')\n",
    "plt.show()"
   ]
  },
  {
   "cell_type": "code",
   "execution_count": null,
   "id": "4a6b3abd",
   "metadata": {},
   "outputs": [],
   "source": []
  }
 ],
 "metadata": {
  "kernelspec": {
   "display_name": "Python 3 (ipykernel)",
   "language": "python",
   "name": "python3"
  },
  "language_info": {
   "codemirror_mode": {
    "name": "ipython",
    "version": 3
   },
   "file_extension": ".py",
   "mimetype": "text/x-python",
   "name": "python",
   "nbconvert_exporter": "python",
   "pygments_lexer": "ipython3",
   "version": "3.11.4"
  }
 },
 "nbformat": 4,
 "nbformat_minor": 5
}
