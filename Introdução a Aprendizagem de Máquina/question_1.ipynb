{
 "cells": [
  {
   "cell_type": "markdown",
   "id": "5130214a",
   "metadata": {},
   "source": [
    "# A divisão de dados em conjuntos de treinamento e teste é fundamental na modelagem de machine learning estatística. Isso permite avaliar a capacidade do modelo de generalização. O conjunto de treinamento é usado para treinar o modelo, enquanto o conjunto de teste avalia o desempenho em dados não vistos. É importante evitar o \"data snooping bias,\" que ocorre quando informações do conjunto de teste vazam para o treinamento do modelo."
   ]
  },
  {
   "cell_type": "code",
   "execution_count": 1,
   "id": "77e39f48",
   "metadata": {},
   "outputs": [],
   "source": [
    "from sklearn.model_selection import train_test_split\n",
    "\n",
    "X = [[1, 2, 3], [4, 5, 6], [7, 8, 9], [10, 11, 12]]\n",
    "y = [10, 20, 30, 40]\n",
    "\n",
    "X_train, X_test, y_train, y_test = train_test_split(X, y, test_size=0.3, random_state=42)\n"
   ]
  }
 ],
 "metadata": {
  "kernelspec": {
   "display_name": "Python 3 (ipykernel)",
   "language": "python",
   "name": "python3"
  },
  "language_info": {
   "codemirror_mode": {
    "name": "ipython",
    "version": 3
   },
   "file_extension": ".py",
   "mimetype": "text/x-python",
   "name": "python",
   "nbconvert_exporter": "python",
   "pygments_lexer": "ipython3",
   "version": "3.11.4"
  }
 },
 "nbformat": 4,
 "nbformat_minor": 5
}
