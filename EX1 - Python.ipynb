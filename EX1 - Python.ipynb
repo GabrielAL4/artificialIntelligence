{
 "cells": [
  {
   "cell_type": "markdown",
   "metadata": {
    "collapsed": false,
    "jupyter": {
     "outputs_hidden": false
    }
   },
   "source": [
    "## Criar um notebook explicativo sobre o tema \"Tipagem Python \"for Dummies\"\" \\- imagine que necessite criar um notebook explicando como funciona a tipagem de variáveis em Python, descrevendo teorias e colocando exemplos de código de exemplo para verificação de resultados explicativos.\n",
    "\n"
   ]
  },
  {
   "cell_type": "markdown",
   "metadata": {
    "collapsed": false,
    "jupyter": {
     "outputs_hidden": false
    }
   },
   "source": [
    "### A tipagem do Python é uma tipagem forte e dinâmica abaixo temos um exemplo de código demonstrando o input em variáveis\n",
    "\n",
    "### O código abaixo expõe os tipos das variáveis de modo em que após compilar e inserir ele retorna o tipo da variável:\n",
    "\n"
   ]
  },
  {
   "cell_type": "code",
   "execution_count": 1,
   "metadata": {
    "cocalc": {
     "outputs": {
      "0": {
       "name": "input",
       "opts": {
        "password": false,
        "prompt": "Insira o nome"
       },
       "output_type": "stream",
       "value": "gabriel"
      },
      "1": {
       "name": "input",
       "opts": {
        "password": false,
        "prompt": "Insira a idade"
       },
       "output_type": "stream",
       "value": "22"
      },
      "2": {
       "name": "input",
       "opts": {
        "password": false,
        "prompt": "Insira o peso"
       },
       "output_type": "stream",
       "value": "67"
      }
     }
    },
    "collapsed": false,
    "jupyter": {
     "outputs_hidden": false
    }
   },
   "outputs": [
    {
     "name": "stdin",
     "output_type": "stream",
     "text": [
      "Insira o nome Gabriel\n",
      "\n",
      "Insira a idade 22\n",
      "\n",
      "Insira o peso 66\n"
     ]
    },
    {
     "name": "stdout",
     "output_type": "stream",
     "text": [
      "Gabriel é do tipo <class 'str'>\n",
      "22 é do tipo <class 'int'>\n",
      "66.0 é do tipo <class 'float'>\n",
      "Insira o peso 67gabriel é do tipo <class 'str'>\n",
      "22 é do tipo <class 'int'>\n",
      "67.0 é do tipo <class 'float'>\n"
     ]
    }
   ],
   "source": [
    "nome = str(input(\"Insira o nome\"))\n",
    "idade = int(input(\"\\nInsira a idade\"))\n",
    "peso = float(input(\"\\nInsira o peso\"))\n",
    "\n",
    "formato_tipo = '{} é do tipo {}'\n",
    "\n",
    "print(formato_tipo.format(nome, type(nome)))\n",
    "print(formato_tipo.format(idade, type(idade)))\n",
    "print(formato_tipo.format(peso, type(peso)))"
   ]
  },
  {
   "cell_type": "markdown",
   "metadata": {
    "collapsed": false,
    "jupyter": {
     "outputs_hidden": false
    }
   },
   "source": [
    "### Os tipos básicos do pytbon estão demonstrados no bloco abaixo:\n"
   ]
  },
  {
   "cell_type": "code",
   "execution_count": 2,
   "metadata": {
    "collapsed": false,
    "jupyter": {
     "outputs_hidden": false
    }
   },
   "outputs": [],
   "source": [
    "string: str = \"Teste\" #Dados de texto\n",
    "inteiro: int = 123 #Dados de números no conjunto dos inteiros\n",
    "booleano: bool = True #Dados booleanos, True ou False\n",
    "ponto_flutuante: float = 1.23 #Dados de números no conjunto dos reais\n",
    "string_bytes: bytes = b\"Teste\" \n"
   ]
  },
  {
   "cell_type": "markdown",
   "metadata": {},
   "source": [
    "### No python também existem Coleções ou Colections que nos auxiliam a manejar dados agrupados"
   ]
  },
  {
   "cell_type": "code",
   "execution_count": 7,
   "metadata": {},
   "outputs": [],
   "source": [
    "listaInteiros: list = [1, 2, 3]\n",
    "tuplaInteiros: tuple = (1, 2, 3)\n",
    "conjuntoInteiros: set = {1, 2, 3}\n",
    "dicionarioStrings_inteiros: dict = {\"a\": 1, \"b\": 2, \"c\": 3}\n"
   ]
  },
  {
   "cell_type": "markdown",
   "metadata": {},
   "source": [
    "### A linguagem ainda possui tipagem de Classes justamente por possuir orientação a objeto"
   ]
  },
  {
   "cell_type": "code",
   "execution_count": 9,
   "metadata": {},
   "outputs": [],
   "source": [
    "class Pessoa:\n",
    "    def __init__(self, nome: str, idade: int, peso: float):\n",
    "        self.nome = nome\n",
    "        self.idade = idade\n",
    "        self.peso = peso\n",
    "\n",
    "pessoa: Pessoa = Pessoa(\"Gabriel\", 22, 66.5)\n"
   ]
  },
  {
   "cell_type": "markdown",
   "metadata": {},
   "source": [
    "### O python também possui outros tipos, chamados de Tipos especiais que são validos para uso"
   ]
  },
  {
   "cell_type": "code",
   "execution_count": null,
   "metadata": {},
   "outputs": [],
   "source": []
  }
 ],
 "metadata": {
  "kernelspec": {
   "display_name": "Python 3 (ipykernel)",
   "language": "python",
   "name": "python3"
  },
  "language_info": {
   "codemirror_mode": {
    "name": "ipython",
    "version": 3
   },
   "file_extension": ".py",
   "mimetype": "text/x-python",
   "name": "python",
   "nbconvert_exporter": "python",
   "pygments_lexer": "ipython3",
   "version": "3.8.10"
  }
 },
 "nbformat": 4,
 "nbformat_minor": 4
}
