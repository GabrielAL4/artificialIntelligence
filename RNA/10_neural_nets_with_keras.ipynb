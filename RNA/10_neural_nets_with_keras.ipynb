{
 "cells": [
  {
   "cell_type": "markdown",
   "metadata": {
    "tags": []
   },
   "source": [
    "# Redes Neurais Artificiais (RNA)\n",
    "\n",
    "### Redes neurais artificiais (RNAs) são modelos computacionais inspirados no funcionamento do cérebro humano. Elas são uma parte fundamental da inteligência artificial e do aprendizado de máquina. As RNAs são compostas por unidades chamadas neurônios artificiais, que são organizados em camadas."
   ]
  },
  {
   "cell_type": "markdown",
   "metadata": {},
   "source": [
    "## Aqui teremos a camada de configuração inicial, com importações."
   ]
  },
  {
   "cell_type": "code",
   "execution_count": 1,
   "metadata": {},
   "outputs": [],
   "source": [
    "import sys\n",
    "\n",
    "assert sys.version_info >= (3, 7)"
   ]
  },
  {
   "cell_type": "code",
   "execution_count": 2,
   "metadata": {},
   "outputs": [],
   "source": [
    "from packaging import version\n",
    "import sklearn\n",
    "\n",
    "assert version.parse(sklearn.__version__) >= version.parse(\"1.0.1\")"
   ]
  },
  {
   "cell_type": "code",
   "execution_count": 3,
   "metadata": {},
   "outputs": [
    {
     "name": "stderr",
     "output_type": "stream",
     "text": [
      "2023-11-17 20:22:36.032797: I external/local_tsl/tsl/cuda/cudart_stub.cc:31] Could not find cuda drivers on your machine, GPU will not be used.\n",
      "2023-11-17 20:22:36.306949: E external/local_xla/xla/stream_executor/cuda/cuda_dnn.cc:9261] Unable to register cuDNN factory: Attempting to register factory for plugin cuDNN when one has already been registered\n",
      "2023-11-17 20:22:36.307097: E external/local_xla/xla/stream_executor/cuda/cuda_fft.cc:607] Unable to register cuFFT factory: Attempting to register factory for plugin cuFFT when one has already been registered\n",
      "2023-11-17 20:22:36.345634: E external/local_xla/xla/stream_executor/cuda/cuda_blas.cc:1515] Unable to register cuBLAS factory: Attempting to register factory for plugin cuBLAS when one has already been registered\n",
      "2023-11-17 20:22:36.430906: I external/local_tsl/tsl/cuda/cudart_stub.cc:31] Could not find cuda drivers on your machine, GPU will not be used.\n",
      "2023-11-17 20:22:36.433311: I tensorflow/core/platform/cpu_feature_guard.cc:182] This TensorFlow binary is optimized to use available CPU instructions in performance-critical operations.\n",
      "To enable the following instructions: AVX2 FMA, in other operations, rebuild TensorFlow with the appropriate compiler flags.\n",
      "2023-11-17 20:22:38.416457: W tensorflow/compiler/tf2tensorrt/utils/py_utils.cc:38] TF-TRT Warning: Could not find TensorRT\n"
     ]
    }
   ],
   "source": [
    "import tensorflow as tf\n",
    "\n",
    "assert version.parse(tf.__version__) >= version.parse(\"2.8.0\")"
   ]
  },
  {
   "cell_type": "code",
   "execution_count": 4,
   "metadata": {},
   "outputs": [],
   "source": [
    "import matplotlib.pyplot as plt\n",
    "\n",
    "plt.rc('font', size=14)\n",
    "plt.rc('axes', labelsize=14, titlesize=14)\n",
    "plt.rc('legend', fontsize=14)\n",
    "plt.rc('xtick', labelsize=10)\n",
    "plt.rc('ytick', labelsize=10)"
   ]
  },
  {
   "cell_type": "markdown",
   "metadata": {},
   "source": [
    "### Parte utilizada para salvar imagens PNG do projeto"
   ]
  },
  {
   "cell_type": "code",
   "execution_count": 5,
   "metadata": {},
   "outputs": [],
   "source": [
    "from pathlib import Path\n",
    "\n",
    "IMAGES_PATH = Path() / \"images\" / \"ann\"\n",
    "IMAGES_PATH.mkdir(parents=True, exist_ok=True)\n",
    "\n",
    "def save_fig(fig_id, tight_layout=True, fig_extension=\"png\", resolution=300):\n",
    "    path = IMAGES_PATH / f\"{fig_id}.{fig_extension}\"\n",
    "    if tight_layout:\n",
    "        plt.tight_layout()\n",
    "    plt.savefig(path, format=fig_extension, dpi=resolution)"
   ]
  },
  {
   "cell_type": "markdown",
   "metadata": {},
   "source": [
    "# Neurônios Biológicos x RNA\n",
    "\n",
    "### A relação entre neurônios biológicos e artificiais reside na inspiração da arquitetura neural do cérebro humano para criar redes neurais artificiais (RNAs). Os neurônios artificiais são modelados com base na estrutura e função dos neurônios biológicos, realizando operações como soma ponderada e aplicação de funções de ativação. Ambos os sistemas compartilham o conceito de conexões neurais, embora as RNAs representem uma simplificação das complexidades presentes no cérebro. Apesar das semelhanças, as RNAs são projetadas para tarefas específicas e levantam desafios éticos e filosóficos, enquanto a pesquisa em neurociência e inteligência artificial continua a influenciar mutuamente esses campos interdisciplinares."
   ]
  },
  {
   "cell_type": "markdown",
   "metadata": {},
   "source": [
    "# Perceptron\n",
    "\n",
    "### O perceptron é um modelo simplificado de neurônio artificial, inicialmente proposto por Frank Rosenblatt em 1957. Ele é a unidade básica de uma rede neural e serve como bloco de construção fundamental para compreender conceitos mais avançados em aprendizado de máquina e inteligência artificial. O código abaixo utiliza o perceptron na sua implementação\n"
   ]
  },
  {
   "cell_type": "code",
   "execution_count": 6,
   "metadata": {},
   "outputs": [],
   "source": [
    "import numpy as np\n",
    "from sklearn.datasets import load_iris\n",
    "from sklearn.linear_model import Perceptron\n",
    "\n",
    "# Carrega o conjunto de dados Iris\n",
    "iris = load_iris(as_frame=True)\n",
    "\n",
    "# Seleciona duas características (comprimento e largura da pétala) para simplificar a tarefa\n",
    "X = iris.data[[\"petal length (cm)\", \"petal width (cm)\"]].values\n",
    "\n",
    "# Define a variável de destino binária, indicando se a flor é da espécie Iris setosa ou não\n",
    "y = (iris.target == 0)  # Iris setosa\n",
    "\n",
    "# Cria um classificador Perceptron\n",
    "per_clf = Perceptron(random_state=42)\n",
    "\n",
    "# Treina o Perceptron com as características e a variável de destino\n",
    "per_clf.fit(X, y)\n",
    "\n",
    "# Define novas instâncias de dados para predição\n",
    "X_new = [[2, 0.5], [3, 1]]\n",
    "\n",
    "# Realiza predições usando o modelo treinado\n",
    "y_pred = per_clf.predict(X_new)\n"
   ]
  },
  {
   "cell_type": "markdown",
   "metadata": {},
   "source": [
    "## Classification MLPs\n",
    "\n",
    "### Neste trecho, é criado um modelo sequencial usando a API Keras. O modelo consiste em uma camada de entrada, uma camada de achatamento (flatten) para transformar imagens 28x28 em um vetor unidimensional, duas camadas densas (totalizando 300 e 100 neurônios, respectivamente) com ativação ReLU, e uma camada de saída com 10 neurônios (um para cada classe no conjunto de dados MNIST) e ativação softmax."
   ]
  },
  {
   "cell_type": "code",
   "execution_count": 7,
   "metadata": {},
   "outputs": [
    {
     "data": {
      "text/plain": [
       "[<keras.src.layers.reshaping.flatten.Flatten at 0x7f3b4cbd08d0>,\n",
       " <keras.src.layers.core.dense.Dense at 0x7f3b4cc97690>,\n",
       " <keras.src.layers.core.dense.Dense at 0x7f3b4ccaf410>,\n",
       " <keras.src.layers.core.dense.Dense at 0x7f3b4c24a790>]"
      ]
     },
     "execution_count": 7,
     "metadata": {},
     "output_type": "execute_result"
    }
   ],
   "source": [
    "tf.random.set_seed(42)\n",
    "model = tf.keras.Sequential()\n",
    "model.add(tf.keras.layers.InputLayer(input_shape=[28, 28]))\n",
    "model.add(tf.keras.layers.Flatten())\n",
    "model.add(tf.keras.layers.Dense(300, activation=\"relu\"))\n",
    "model.add(tf.keras.layers.Dense(100, activation=\"relu\"))\n",
    "model.add(tf.keras.layers.Dense(10, activation=\"softmax\"))\n",
    "\n",
    "model.layers"
   ]
  },
  {
   "cell_type": "markdown",
   "metadata": {},
   "source": [
    "### Este trecho explora informações sobre a primeira camada oculta do modelo (camada de achatamento). Ele acessa a camada pelo índice e pelo nome, verifica se a camada 'dense' está na lista de camadas do modelo, e obtém os pesos e vieses da camada."
   ]
  },
  {
   "cell_type": "code",
   "execution_count": 8,
   "metadata": {},
   "outputs": [
    {
     "data": {
      "text/plain": [
       "(300,)"
      ]
     },
     "execution_count": 8,
     "metadata": {},
     "output_type": "execute_result"
    }
   ],
   "source": [
    "hidden1 = model.layers[1]\n",
    "hidden1.name\n",
    "\n",
    "model.get_layer('dense') is hidden1\n",
    "\n",
    "weights, biases = hidden1.get_weights()\n",
    "weights\n",
    "\n",
    "weights.shape\n",
    "\n",
    "biases\n",
    "\n",
    "biases.shape"
   ]
  },
  {
   "cell_type": "markdown",
   "metadata": {},
   "source": [
    "### Neste trecho, o modelo é compilado com uma função de perda (sparse_categorical_crossentropy), um otimizador (sgd - gradiente descendente estocástico) e métricas (accuracy). Em seguida, o modelo é treinado usando os dados de treinamento (X_train, y_train) por 30 épocas, e a validação é realizada usando o conjunto de validação (X_valid, y_valid). "
   ]
  },
  {
   "cell_type": "code",
   "execution_count": 9,
   "metadata": {},
   "outputs": [],
   "source": [
    "model.compile(loss=\"sparse_categorical_crossentropy\",\n",
    "              optimizer=\"sgd\",\n",
    "              metrics=[\"accuracy\"])"
   ]
  },
  {
   "cell_type": "markdown",
   "metadata": {},
   "source": [
    "### O histórico do treinamento é armazenado na variável history. Este histórico pode ser usado posteriormente para visualizar as métricas de treinamento e validação ao longo das épocas.\n"
   ]
  },
  {
   "cell_type": "code",
   "execution_count": 10,
   "metadata": {},
   "outputs": [
    {
     "ename": "NameError",
     "evalue": "name 'X_train' is not defined",
     "output_type": "error",
     "traceback": [
      "\u001b[0;31m---------------------------------------------------------------------------\u001b[0m",
      "\u001b[0;31mNameError\u001b[0m                                 Traceback (most recent call last)",
      "Cell \u001b[0;32mIn[10], line 1\u001b[0m\n\u001b[0;32m----> 1\u001b[0m history \u001b[38;5;241m=\u001b[39m model\u001b[38;5;241m.\u001b[39mfit(X_train, y_train, epochs\u001b[38;5;241m=\u001b[39m\u001b[38;5;241m30\u001b[39m,\n\u001b[1;32m      2\u001b[0m                     validation_data\u001b[38;5;241m=\u001b[39m(X_valid, y_valid))\n",
      "\u001b[0;31mNameError\u001b[0m: name 'X_train' is not defined"
     ]
    }
   ],
   "source": [
    "history = model.fit(X_train, y_train, epochs=30,\n",
    "                    validation_data=(X_valid, y_valid))"
   ]
  },
  {
   "cell_type": "code",
   "execution_count": null,
   "metadata": {},
   "outputs": [],
   "source": []
  }
 ],
 "metadata": {
  "kernelspec": {
   "display_name": "Python 3 (ipykernel)",
   "language": "python",
   "name": "python3"
  },
  "language_info": {
   "codemirror_mode": {
    "name": "ipython",
    "version": 3
   },
   "file_extension": ".py",
   "mimetype": "text/x-python",
   "name": "python",
   "nbconvert_exporter": "python",
   "pygments_lexer": "ipython3",
   "version": "3.11.4"
  },
  "nav_menu": {
   "height": "264px",
   "width": "369px"
  },
  "toc": {
   "navigate_menu": true,
   "number_sections": true,
   "sideBar": true,
   "threshold": 6,
   "toc_cell": false,
   "toc_section_display": "block",
   "toc_window_display": false
  }
 },
 "nbformat": 4,
 "nbformat_minor": 4
}
