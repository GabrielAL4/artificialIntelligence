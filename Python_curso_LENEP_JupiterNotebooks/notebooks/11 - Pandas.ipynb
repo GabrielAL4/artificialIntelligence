{
 "cells": [
  {
   "cell_type": "markdown",
   "metadata": {},
   "source": [
    "# Mini Curso de Python\n",
    "\n",
    "\n",
    "## Pandas"
   ]
  },
  {
   "cell_type": "code",
   "execution_count": 12,
   "metadata": {},
   "outputs": [],
   "source": [
    "#Para usar o Pandas, é necessário importar a biblioteca\n",
    "import pandas as pd\n",
    "\n",
    "#Para esse notebook  precisaremos também do matplotlib e do numpy\n",
    "import numpy as np\n",
    "import matplotlib as plt"
   ]
  },
  {
   "cell_type": "markdown",
   "metadata": {},
   "source": [
    "## Séries\n",
    "  \n",
    "Existem dois tipos principais de estruturas de dados no pandas: as séries e os dataframes\n",
    "  \n",
    "As série é  como um array unidimensional, uma lista de valores. Toda Series possui um índice, o index, que dá rótulos a cada elemento da lista. "
   ]
  },
  {
   "cell_type": "code",
   "execution_count": 6,
   "metadata": {},
   "outputs": [
    {
     "name": "stdout",
     "output_type": "stream",
     "text": [
      "0     2\n",
      "1     7\n",
      "2     5\n",
      "3    10\n",
      "4     6\n",
      "dtype: int64\n",
      "[ 2  7  5 10  6]\n",
      "RangeIndex(start=0, stop=5, step=1)\n"
     ]
    }
   ],
   "source": [
    "#Series notas, o index desta Series é a coluna à esquerda, \n",
    "#que vai de 0 a 4 neste caso, que o pandas criou automaticamente, \n",
    "#já que não especificamos uma lista de rótulos.\n",
    "\n",
    "\n",
    "notas = pd.Series([2,7,5,10,6])\n",
    "print(notas)"
   ]
  },
  {
   "cell_type": "code",
   "execution_count": 7,
   "metadata": {},
   "outputs": [
    {
     "name": "stdout",
     "output_type": "stream",
     "text": [
      "[ 2  7  5 10  6]\n",
      "RangeIndex(start=0, stop=5, step=1)\n"
     ]
    }
   ],
   "source": [
    "#Já podemos aqui verificar os atributos da nossa Series, \n",
    "#comecemos pelos valores e o índice, os dois atributos fundamentais nesta estrutura:\n",
    "print(notas.values)\n",
    "print(notas.index)"
   ]
  },
  {
   "cell_type": "code",
   "execution_count": 8,
   "metadata": {},
   "outputs": [
    {
     "name": "stdout",
     "output_type": "stream",
     "text": [
      "Wilfred     2\n",
      "Abbie       7\n",
      "Harry       5\n",
      "Julia      10\n",
      "Carrie      6\n",
      "dtype: int64\n"
     ]
    }
   ],
   "source": [
    "#Como ao criar a Series não demos um índice específico o pandas usou os inteiros positivos crescentes como padrão.\n",
    "#Pode ser conveniente atribuirmos um índice diferente do padrão, supondo que essas sejam notas de uma turma, \n",
    "#poderíamos atribuir nomes ao index:\n",
    "\n",
    "notas = pd.Series([2,7,5,10,6], index=[\"Wilfred\", \"Abbie\", \"Harry\", \"Julia\", \"Carrie\"])\n",
    "print(notas)"
   ]
  },
  {
   "cell_type": "code",
   "execution_count": 9,
   "metadata": {},
   "outputs": [
    {
     "name": "stdout",
     "output_type": "stream",
     "text": [
      "10\n"
     ]
    }
   ],
   "source": [
    "#O index nos ajuda para referenciar um determinado valor, ele nos permite acessar os valores pelo seu rótulo:\n",
    "print(notas['Julia'])"
   ]
  },
  {
   "cell_type": "code",
   "execution_count": 10,
   "metadata": {},
   "outputs": [
    {
     "name": "stdout",
     "output_type": "stream",
     "text": [
      "Média: 6.0\n",
      "Desvio padrão: 2.9154759474226504\n"
     ]
    }
   ],
   "source": [
    "#Outra facilidade proporcionada pela estrutura são seus métodos que fornecem informações estatísticas\n",
    "#sobre os valores, como média .mean() e desvio padrão .std()\n",
    "print(\"Média:\", notas.mean())\n",
    "print(\"Desvio padrão:\", notas.std())\n"
   ]
  },
  {
   "cell_type": "code",
   "execution_count": 11,
   "metadata": {},
   "outputs": [
    {
     "name": "stdout",
     "output_type": "stream",
     "text": [
      "count     5.000000\n",
      "mean      6.000000\n",
      "std       2.915476\n",
      "min       2.000000\n",
      "25%       5.000000\n",
      "50%       6.000000\n",
      "75%       7.000000\n",
      "max      10.000000\n",
      "dtype: float64\n"
     ]
    }
   ],
   "source": [
    "#Geralmente para resumir brevemente as estatísticas dos dados se usa o .describe()\n",
    "print(notas.describe())"
   ]
  },
  {
   "cell_type": "code",
   "execution_count": 13,
   "metadata": {},
   "outputs": [
    {
     "name": "stdout",
     "output_type": "stream",
     "text": [
      "Wilfred      4\n",
      "Abbie       49\n",
      "Harry       25\n",
      "Julia      100\n",
      "Carrie      36\n",
      "dtype: int64\n",
      "Wilfred    0.693147\n",
      "Abbie      1.945910\n",
      "Harry      1.609438\n",
      "Julia      2.302585\n",
      "Carrie     1.791759\n",
      "dtype: float64\n"
     ]
    }
   ],
   "source": [
    "#A estrutura é flexível o suficiente pra aplicarmos algumas expressões matemáticas e \n",
    "#funções matemáticas do numpy diretamente\n",
    "\n",
    "print(notas**2)\n",
    "print(np.log(notas))"
   ]
  },
  {
   "cell_type": "markdown",
   "metadata": {},
   "source": [
    "## DataFrame\n",
    "  \n",
    "Um DataFrame é uma estrutura bidimensional de dados, como uma planilha"
   ]
  },
  {
   "cell_type": "code",
   "execution_count": 15,
   "metadata": {},
   "outputs": [
    {
     "name": "stdout",
     "output_type": "stream",
     "text": [
      "     Aluno  Faltas  Prova  Seminário\n",
      "0  Wilfred       3      2        8.5\n",
      "1    Abbie       4      7        7.5\n",
      "2    Harry       2      5        9.0\n",
      "3    Julia       1     10        7.5\n",
      "4   Carrie       4      6        8.0\n"
     ]
    }
   ],
   "source": [
    "# Abaixo criaremos um DataFrame que possui valores de diferentes tipos, \n",
    "#usando um dicionário como entrada dos dados\n",
    "\n",
    "df = pd.DataFrame({'Aluno' : [\"Wilfred\", \"Abbie\", \"Harry\", \"Julia\", \"Carrie\"],\n",
    "                   'Faltas' : [3,4,2,1,4],\n",
    "                   'Prova' : [2,7,5,10,6],\n",
    "                   'Seminário': [8.5,7.5,9.0,7.5,8.0]})\n",
    "print(df)"
   ]
  },
  {
   "cell_type": "code",
   "execution_count": 18,
   "metadata": {},
   "outputs": [
    {
     "name": "stdout",
     "output_type": "stream",
     "text": [
      "Aluno         object\n",
      "Faltas         int64\n",
      "Prova          int64\n",
      "Seminário    float64\n",
      "dtype: object\n"
     ]
    }
   ],
   "source": [
    "#Os tipos de dados que compõe as colunas podem ser verificados por um método próprio:\n",
    "print(df.dtypes)"
   ]
  },
  {
   "cell_type": "code",
   "execution_count": 19,
   "metadata": {},
   "outputs": [
    {
     "name": "stdout",
     "output_type": "stream",
     "text": [
      "Index(['Aluno', 'Faltas', 'Prova', 'Seminário'], dtype='object')\n"
     ]
    }
   ],
   "source": [
    "#É possível acessar a lista de colunas\n",
    "\n",
    "print(df.columns)\n"
   ]
  },
  {
   "cell_type": "code",
   "execution_count": 20,
   "metadata": {},
   "outputs": [
    {
     "name": "stdout",
     "output_type": "stream",
     "text": [
      "0    8.5\n",
      "1    7.5\n",
      "2    9.0\n",
      "3    7.5\n",
      "4    8.0\n",
      "Name: Seminário, dtype: float64\n"
     ]
    }
   ],
   "source": [
    "#Os nomes das colunas podem ser usadas pra acessar seus valores:\n",
    "\n",
    "print(df[\"Seminário\"])"
   ]
  },
  {
   "cell_type": "code",
   "execution_count": 60,
   "metadata": {},
   "outputs": [
    {
     "name": "stdout",
     "output_type": "stream",
     "text": [
      "(1997, 8)\n"
     ]
    }
   ],
   "source": [
    "#Quantidade de linhas e colunas do DataFrame\n",
    "print(df.shape)"
   ]
  },
  {
   "cell_type": "code",
   "execution_count": 61,
   "metadata": {},
   "outputs": [
    {
     "name": "stdout",
     "output_type": "stream",
     "text": [
      "RangeIndex(start=0, stop=1997, step=1)\n"
     ]
    }
   ],
   "source": [
    "##Descrição do Index\n",
    "print(df.index )"
   ]
  },
  {
   "cell_type": "code",
   "execution_count": 62,
   "metadata": {},
   "outputs": [
    {
     "name": "stdout",
     "output_type": "stream",
     "text": [
      "condominio    1997\n",
      "quartos       1997\n",
      "suites        1997\n",
      "vagas         1997\n",
      "area          1997\n",
      "bairro        1997\n",
      "preco         1997\n",
      "pm2           1997\n",
      "dtype: int64\n"
     ]
    }
   ],
   "source": [
    "#Contagem de dados não-nulos\n",
    "print(df.count())"
   ]
  },
  {
   "cell_type": "code",
   "execution_count": 21,
   "metadata": {},
   "outputs": [
    {
     "name": "stdout",
     "output_type": "stream",
     "text": [
      "        Faltas      Prova  Seminário\n",
      "count  5.00000   5.000000    5.00000\n",
      "mean   2.80000   6.000000    8.10000\n",
      "std    1.30384   2.915476    0.65192\n",
      "min    1.00000   2.000000    7.50000\n",
      "25%    2.00000   5.000000    7.50000\n",
      "50%    3.00000   6.000000    8.00000\n",
      "75%    4.00000   7.000000    8.50000\n",
      "max    4.00000  10.000000    9.00000\n"
     ]
    }
   ],
   "source": [
    "#.describe() também é uma boa forma de verificar resumidamente a disposição estatística dos dados numéricos:\n",
    "print(df.describe())"
   ]
  },
  {
   "cell_type": "code",
   "execution_count": 22,
   "metadata": {},
   "outputs": [
    {
     "data": {
      "text/html": [
       "<div>\n",
       "<style scoped>\n",
       "    .dataframe tbody tr th:only-of-type {\n",
       "        vertical-align: middle;\n",
       "    }\n",
       "\n",
       "    .dataframe tbody tr th {\n",
       "        vertical-align: top;\n",
       "    }\n",
       "\n",
       "    .dataframe thead th {\n",
       "        text-align: right;\n",
       "    }\n",
       "</style>\n",
       "<table border=\"1\" class=\"dataframe\">\n",
       "  <thead>\n",
       "    <tr style=\"text-align: right;\">\n",
       "      <th></th>\n",
       "      <th>Aluno</th>\n",
       "      <th>Faltas</th>\n",
       "      <th>Prova</th>\n",
       "      <th>Seminário</th>\n",
       "    </tr>\n",
       "  </thead>\n",
       "  <tbody>\n",
       "    <tr>\n",
       "      <th>1</th>\n",
       "      <td>Abbie</td>\n",
       "      <td>4</td>\n",
       "      <td>7</td>\n",
       "      <td>7.5</td>\n",
       "    </tr>\n",
       "    <tr>\n",
       "      <th>3</th>\n",
       "      <td>Julia</td>\n",
       "      <td>1</td>\n",
       "      <td>10</td>\n",
       "      <td>7.5</td>\n",
       "    </tr>\n",
       "    <tr>\n",
       "      <th>4</th>\n",
       "      <td>Carrie</td>\n",
       "      <td>4</td>\n",
       "      <td>6</td>\n",
       "      <td>8.0</td>\n",
       "    </tr>\n",
       "    <tr>\n",
       "      <th>0</th>\n",
       "      <td>Wilfred</td>\n",
       "      <td>3</td>\n",
       "      <td>2</td>\n",
       "      <td>8.5</td>\n",
       "    </tr>\n",
       "    <tr>\n",
       "      <th>2</th>\n",
       "      <td>Harry</td>\n",
       "      <td>2</td>\n",
       "      <td>5</td>\n",
       "      <td>9.0</td>\n",
       "    </tr>\n",
       "  </tbody>\n",
       "</table>\n",
       "</div>"
      ],
      "text/plain": [
       "     Aluno  Faltas  Prova  Seminário\n",
       "1    Abbie       4      7        7.5\n",
       "3    Julia       1     10        7.5\n",
       "4   Carrie       4      6        8.0\n",
       "0  Wilfred       3      2        8.5\n",
       "2    Harry       2      5        9.0"
      ]
     },
     "execution_count": 22,
     "metadata": {},
     "output_type": "execute_result"
    }
   ],
   "source": [
    "#Também é possível ordenar por uma determinada coluna\n",
    "df.sort_values(by=\"Seminário\")"
   ]
  },
  {
   "cell_type": "code",
   "execution_count": 24,
   "metadata": {},
   "outputs": [
    {
     "data": {
      "text/plain": [
       "Aluno        Julia\n",
       "Faltas           1\n",
       "Prova           10\n",
       "Seminário      7.5\n",
       "Name: 3, dtype: object"
      ]
     },
     "execution_count": 24,
     "metadata": {},
     "output_type": "execute_result"
    }
   ],
   "source": [
    "#Para selecionar um valor específico usa-se o atributo .loc:\n",
    "\n",
    "df.loc[3]"
   ]
  },
  {
   "cell_type": "code",
   "execution_count": 25,
   "metadata": {},
   "outputs": [
    {
     "data": {
      "text/html": [
       "<div>\n",
       "<style scoped>\n",
       "    .dataframe tbody tr th:only-of-type {\n",
       "        vertical-align: middle;\n",
       "    }\n",
       "\n",
       "    .dataframe tbody tr th {\n",
       "        vertical-align: top;\n",
       "    }\n",
       "\n",
       "    .dataframe thead th {\n",
       "        text-align: right;\n",
       "    }\n",
       "</style>\n",
       "<table border=\"1\" class=\"dataframe\">\n",
       "  <thead>\n",
       "    <tr style=\"text-align: right;\">\n",
       "      <th></th>\n",
       "      <th>Aluno</th>\n",
       "      <th>Faltas</th>\n",
       "      <th>Prova</th>\n",
       "      <th>Seminário</th>\n",
       "    </tr>\n",
       "  </thead>\n",
       "  <tbody>\n",
       "    <tr>\n",
       "      <th>0</th>\n",
       "      <td>Wilfred</td>\n",
       "      <td>3</td>\n",
       "      <td>2</td>\n",
       "      <td>8.5</td>\n",
       "    </tr>\n",
       "    <tr>\n",
       "      <th>2</th>\n",
       "      <td>Harry</td>\n",
       "      <td>2</td>\n",
       "      <td>5</td>\n",
       "      <td>9.0</td>\n",
       "    </tr>\n",
       "  </tbody>\n",
       "</table>\n",
       "</div>"
      ],
      "text/plain": [
       "     Aluno  Faltas  Prova  Seminário\n",
       "0  Wilfred       3      2        8.5\n",
       "2    Harry       2      5        9.0"
      ]
     },
     "execution_count": 25,
     "metadata": {},
     "output_type": "execute_result"
    }
   ],
   "source": [
    "#Para selecionar de acordo com critérios condicionais, se usa o que se chama de Boolean Indexing.\n",
    "\n",
    "df[df[\"Seminário\"] > 8.0]"
   ]
  },
  {
   "cell_type": "code",
   "execution_count": 26,
   "metadata": {},
   "outputs": [
    {
     "data": {
      "text/html": [
       "<div>\n",
       "<style scoped>\n",
       "    .dataframe tbody tr th:only-of-type {\n",
       "        vertical-align: middle;\n",
       "    }\n",
       "\n",
       "    .dataframe tbody tr th {\n",
       "        vertical-align: top;\n",
       "    }\n",
       "\n",
       "    .dataframe thead th {\n",
       "        text-align: right;\n",
       "    }\n",
       "</style>\n",
       "<table border=\"1\" class=\"dataframe\">\n",
       "  <thead>\n",
       "    <tr style=\"text-align: right;\">\n",
       "      <th></th>\n",
       "      <th>Aluno</th>\n",
       "      <th>Faltas</th>\n",
       "      <th>Prova</th>\n",
       "      <th>Seminário</th>\n",
       "    </tr>\n",
       "  </thead>\n",
       "  <tbody>\n",
       "    <tr>\n",
       "      <th>2</th>\n",
       "      <td>Harry</td>\n",
       "      <td>2</td>\n",
       "      <td>5</td>\n",
       "      <td>9.0</td>\n",
       "    </tr>\n",
       "  </tbody>\n",
       "</table>\n",
       "</div>"
      ],
      "text/plain": [
       "   Aluno  Faltas  Prova  Seminário\n",
       "2  Harry       2      5        9.0"
      ]
     },
     "execution_count": 26,
     "metadata": {},
     "output_type": "execute_result"
    }
   ],
   "source": [
    "#Este tipo de indexação também possibilita checar condições de múltiplas colunas\n",
    "#Os operadores serão:\n",
    "# | para ou\n",
    "# & para and\n",
    "# ~ para not\n",
    "\n",
    "df[(df[\"Seminário\"] > 8.0) & (df[\"Prova\"] > 3)]"
   ]
  },
  {
   "cell_type": "markdown",
   "metadata": {},
   "source": [
    "## Leitura de Dados\n",
    "  \n",
    "O pandas nos fornece uma série de funcionalidades de leitura de dados, para os mais diversos formatos estruturais de dados, entre eles estão:  \n",
    "- pd.read_csv, para ler arquivos .csv, formato comum de armazenar dados de tabelas\n",
    "- pd.read_xlsx, para ler arquivos Excel .xlsx, é necessário instalar uma biblioteca adicional pra esta funcionalidade.\n",
    "- pd.read_html, para ler tabelas diretamente de um website\n"
   ]
  },
  {
   "cell_type": "code",
   "execution_count": 27,
   "metadata": {},
   "outputs": [
    {
     "name": "stdout",
     "output_type": "stream",
     "text": [
      "      condominio  quartos  suites  vagas  area    bairro    preco       pm2\n",
      "0            350        1     0.0    1.0    21  Botafogo   340000  16190.48\n",
      "1            800        1     0.0    1.0    64  Botafogo   770000  12031.25\n",
      "2            674        1     0.0    1.0    61  Botafogo   600000   9836.07\n",
      "3            700        1     1.0    1.0    70  Botafogo   700000  10000.00\n",
      "4            440        1     0.0    1.0    44  Botafogo   515000  11704.55\n",
      "5            917        1     1.0    1.0    60  Botafogo   630000  10500.00\n",
      "6            850        1     1.0    1.0    65  Botafogo   740000  11384.62\n",
      "7            350        1     1.0    1.0    43  Botafogo   570000  13255.81\n",
      "8            440        1     1.0    1.0    26  Botafogo   430000  16538.46\n",
      "9            510        1     1.0    1.0    42  Botafogo   500000  11904.76\n",
      "10           200        1     0.0    1.0    35  Botafogo   500000  14285.71\n",
      "11           552        1     1.0    1.0    67  Botafogo   790000  11791.04\n",
      "12           495        1     1.0    1.0    54  Botafogo   515000   9537.04\n",
      "13           340        1     1.0    1.0    40  Botafogo   410000  10250.00\n",
      "14           800        1     1.0    1.0    60  Botafogo   625000  10416.67\n",
      "15           530        1     0.0    1.0    40  Botafogo   360000   9000.00\n",
      "16           500        1     0.0    1.0    47  Botafogo   670000  14255.32\n",
      "17           600        1     1.0    1.0    45  Botafogo   500000  11111.11\n",
      "18           465        1     0.0    1.0    50  Botafogo   570000  11400.00\n",
      "19          1400        1     1.0    1.0    50  Botafogo   570000  11400.00\n",
      "20           700        1     1.0    1.0    58  Botafogo   630000  10862.07\n",
      "21           250        1     0.0    1.0    40  Botafogo   400000  10000.00\n",
      "22          1000        1     1.0    1.0    54  Botafogo   750000  13888.89\n",
      "23           280        1     0.0    1.0    65  Botafogo   578000   8892.31\n",
      "24           481        1     1.0    1.0    28  Botafogo   350000  12500.00\n",
      "25           150        1     0.0    1.0    40  Botafogo   130000   3250.00\n",
      "26          1071        1     1.0    1.0    44  Botafogo   597000  13568.18\n",
      "27           750        2     1.0    1.0    70  Botafogo   995000  14214.29\n",
      "28           992        2     1.0    1.0   105  Botafogo  1150000  10952.38\n",
      "29           990        2     1.0    1.0   100  Botafogo  1200000  12000.00\n",
      "...          ...      ...     ...    ...   ...       ...      ...       ...\n",
      "1967         600        3     1.0    1.0    99    Tijuca   780000   7878.79\n",
      "1968         780        3     1.0    1.0   120    Tijuca   780000   6500.00\n",
      "1969        1068        3     1.0    1.0    95    Tijuca   795000   8368.42\n",
      "1970         900        3     1.0    1.0    92    Tijuca   680000   7391.30\n",
      "1971         480        3     1.0    3.0   142    Tijuca   600000   4225.35\n",
      "1972         588        3     1.0    1.0    98    Tijuca  1100000  11224.49\n",
      "1973         210        3     1.0    1.0    95    Tijuca   440000   4631.58\n",
      "1974        1370        3     1.0    2.0   130    Tijuca  1050000   8076.92\n",
      "1975         500        3     1.0    1.0   102    Tijuca   955000   9362.75\n",
      "1976         670        3     2.0    1.0   139    Tijuca   878000   6316.55\n",
      "1977         730        3     0.0    1.0    90    Tijuca   550000   6111.11\n",
      "1978        1000        3     1.0    2.0   125    Tijuca   825000   6600.00\n",
      "1979        1050        3     1.0    2.0    95    Tijuca   899000   9463.16\n",
      "1980        1100        3     1.0    2.0   110    Tijuca   850000   7727.27\n",
      "1981         850        3     1.0    2.0   118    Tijuca   850000   7203.39\n",
      "1982        1100        3     1.0    1.0   110    Tijuca   750000   6818.18\n",
      "1983         950        3     1.0    1.0   105    Tijuca   730000   6952.38\n",
      "1984         970        3     1.0    1.0   110    Tijuca   650000   5909.09\n",
      "1985        1336        3     2.0    1.0   120    Tijuca   850000   7083.33\n",
      "1986         900        3     1.0    1.0    90    Tijuca   860000   9555.56\n",
      "1987         880        3     1.0    1.0   100    Tijuca   800000   8000.00\n",
      "1988         870        3     1.0    1.0   100    Tijuca   580000   5800.00\n",
      "1989         400        3     1.0    1.0    92    Tijuca   480000   5217.39\n",
      "1990         686        3     0.0    1.0   105    Tijuca   490000   4666.67\n",
      "1991         450        3     1.0    1.0    72    Tijuca   435000   6041.67\n",
      "1992        1080        3     1.0    1.0    80    Tijuca   680000   8500.00\n",
      "1993         750        3     0.0    1.0    82    Tijuca   650000   7926.83\n",
      "1994         700        3     1.0    1.0   100    Tijuca   629900   6299.00\n",
      "1995        1850        3     1.0    2.0   166    Tijuca  1600000   9638.55\n",
      "1996         800        3     1.0    1.0   107    Tijuca   540000   5046.73\n",
      "\n",
      "[1997 rows x 8 columns]\n"
     ]
    }
   ],
   "source": [
    "#Usaremos como exemplo um arquivo csv chamado dados.csv que são  sobre preços de apartamentos \n",
    "#em 7 bairros da cidade do Rio de Janeiro: Botafogo, Copacabana, Gávea, Grajaú, Ipanema, Leblon, Tijuca\n",
    "\n",
    "df = pd.read_csv(\"dados.csv\")\n",
    "print(df)"
   ]
  },
  {
   "cell_type": "code",
   "execution_count": 28,
   "metadata": {},
   "outputs": [
    {
     "name": "stdout",
     "output_type": "stream",
     "text": [
      "   condominio  quartos  suites  vagas  area    bairro   preco       pm2\n",
      "0         350        1     0.0    1.0    21  Botafogo  340000  16190.48\n",
      "1         800        1     0.0    1.0    64  Botafogo  770000  12031.25\n",
      "2         674        1     0.0    1.0    61  Botafogo  600000   9836.07\n",
      "3         700        1     1.0    1.0    70  Botafogo  700000  10000.00\n",
      "4         440        1     0.0    1.0    44  Botafogo  515000  11704.55\n"
     ]
    }
   ],
   "source": [
    "#Para imprimir as primeiras linhas do dataframe, pode-se usar o comando head()\n",
    "\n",
    "print(df.head())"
   ]
  },
  {
   "cell_type": "code",
   "execution_count": 29,
   "metadata": {},
   "outputs": [
    {
     "name": "stdout",
     "output_type": "stream",
     "text": [
      "   condominio  quartos  suites  vagas  area    bairro   preco       pm2\n",
      "0         350        1     0.0    1.0    21  Botafogo  340000  16190.48\n",
      "1         800        1     0.0    1.0    64  Botafogo  770000  12031.25\n",
      "2         674        1     0.0    1.0    61  Botafogo  600000   9836.07\n",
      "3         700        1     1.0    1.0    70  Botafogo  700000  10000.00\n",
      "4         440        1     0.0    1.0    44  Botafogo  515000  11704.55\n",
      "5         917        1     1.0    1.0    60  Botafogo  630000  10500.00\n",
      "6         850        1     1.0    1.0    65  Botafogo  740000  11384.62\n",
      "7         350        1     1.0    1.0    43  Botafogo  570000  13255.81\n",
      "8         440        1     1.0    1.0    26  Botafogo  430000  16538.46\n",
      "9         510        1     1.0    1.0    42  Botafogo  500000  11904.76\n"
     ]
    }
   ],
   "source": [
    "#Se desejar imprimir mais linhas que a quantidade padrão (5) basta colocar o parâmetro n=x\n",
    "\n",
    "print(df.head(n=10))"
   ]
  },
  {
   "cell_type": "code",
   "execution_count": 30,
   "metadata": {},
   "outputs": [
    {
     "name": "stdout",
     "output_type": "stream",
     "text": [
      "      condominio  quartos  suites  vagas  area  bairro    preco      pm2\n",
      "1987         880        3     1.0    1.0   100  Tijuca   800000  8000.00\n",
      "1988         870        3     1.0    1.0   100  Tijuca   580000  5800.00\n",
      "1989         400        3     1.0    1.0    92  Tijuca   480000  5217.39\n",
      "1990         686        3     0.0    1.0   105  Tijuca   490000  4666.67\n",
      "1991         450        3     1.0    1.0    72  Tijuca   435000  6041.67\n",
      "1992        1080        3     1.0    1.0    80  Tijuca   680000  8500.00\n",
      "1993         750        3     0.0    1.0    82  Tijuca   650000  7926.83\n",
      "1994         700        3     1.0    1.0   100  Tijuca   629900  6299.00\n",
      "1995        1850        3     1.0    2.0   166  Tijuca  1600000  9638.55\n",
      "1996         800        3     1.0    1.0   107  Tijuca   540000  5046.73\n"
     ]
    }
   ],
   "source": [
    "#Com comportamento semelhante, o caomando tail imprime as última linhas\n",
    "\n",
    "print(df.tail(n=10))"
   ]
  },
  {
   "cell_type": "code",
   "execution_count": 32,
   "metadata": {},
   "outputs": [
    {
     "name": "stdout",
     "output_type": "stream",
     "text": [
      "['Botafogo' 'Copacabana' 'Gávea' 'Grajaú' 'Ipanema' 'Leblon' 'Tijuca']\n"
     ]
    }
   ],
   "source": [
    "#O comando unique lista os valores únicos de uma coluna\n",
    "\n",
    "print(df[\"bairro\"].unique())"
   ]
  },
  {
   "cell_type": "code",
   "execution_count": 33,
   "metadata": {},
   "outputs": [
    {
     "name": "stdout",
     "output_type": "stream",
     "text": [
      "Copacabana    346\n",
      "Tijuca        341\n",
      "Botafogo      307\n",
      "Ipanema       281\n",
      "Leblon        280\n",
      "Grajaú        237\n",
      "Gávea         205\n",
      "Name: bairro, dtype: int64\n"
     ]
    }
   ],
   "source": [
    "#O comando value_counts() mostra o quantitativo para cada valor único\n",
    "print(df[\"bairro\"].value_counts())"
   ]
  },
  {
   "cell_type": "code",
   "execution_count": 35,
   "metadata": {},
   "outputs": [
    {
     "name": "stdout",
     "output_type": "stream",
     "text": [
      "Copacabana    17.325989\n",
      "Tijuca        17.075613\n",
      "Botafogo      15.373060\n",
      "Ipanema       14.071107\n",
      "Leblon        14.021032\n",
      "Grajaú        11.867802\n",
      "Gávea         10.265398\n",
      "Name: bairro, dtype: float64\n"
     ]
    }
   ],
   "source": [
    "#Os valores contados podem ser normalizados para expressar percentual\n",
    "\n",
    "print(df[\"bairro\"].value_counts(normalize=True)*100)\n"
   ]
  },
  {
   "cell_type": "code",
   "execution_count": 36,
   "metadata": {},
   "outputs": [
    {
     "name": "stdout",
     "output_type": "stream",
     "text": [
      "             condominio   quartos    suites     vagas        area  \\\n",
      "bairro                                                              \n",
      "Botafogo     914.475570  2.107492  1.048860  1.159609   83.837134   \n",
      "Copacabana   991.861272  2.101156  1.034682  1.080925  101.855491   \n",
      "Grajaú       619.940928  2.097046  0.970464  1.130802   79.949367   \n",
      "Gávea        985.234146  2.058537  1.029268  1.200000   88.497561   \n",
      "Ipanema     1357.120996  2.181495  1.192171  1.220641  100.615658   \n",
      "Leblon      1260.010714  2.207143  1.064286  1.164286   91.832143   \n",
      "Tijuca       681.175953  2.131965  0.944282  1.143695   81.457478   \n",
      "\n",
      "                   preco           pm2  \n",
      "bairro                                  \n",
      "Botafogo    1.010614e+06  12034.486189  \n",
      "Copacabana  1.216344e+06  11965.298699  \n",
      "Grajaú      4.788869e+05   6145.624473  \n",
      "Gávea       1.454571e+06  16511.582780  \n",
      "Ipanema     2.033096e+06  19738.407794  \n",
      "Leblon      1.946193e+06  20761.351036  \n",
      "Tijuca      5.750780e+05   7149.804985  \n"
     ]
    }
   ],
   "source": [
    "#Agrupar os dados se baseando em certos critérios é outro processo que o pandas facilita bastante com o .groupby().\n",
    "\n",
    "print(df.groupby(\"bairro\").mean())"
   ]
  },
  {
   "cell_type": "code",
   "execution_count": 38,
   "metadata": {},
   "outputs": [
    {
     "name": "stdout",
     "output_type": "stream",
     "text": [
      "bairro\n",
      "Grajaú         6145.624473\n",
      "Tijuca         7149.804985\n",
      "Copacabana    11965.298699\n",
      "Botafogo      12034.486189\n",
      "Gávea         16511.582780\n",
      "Ipanema       19738.407794\n",
      "Leblon        20761.351036\n",
      "Name: pm2, dtype: float64\n"
     ]
    }
   ],
   "source": [
    "#No exemplo abaixo, foram extraidos dados de uma coluna\n",
    "#Foi obtida os valores da média do preço do metro quadrado em ordem crescente\n",
    "\n",
    "print(df.groupby(\"bairro\").mean()[\"pm2\"].sort_values())"
   ]
  },
  {
   "cell_type": "code",
   "execution_count": 40,
   "metadata": {},
   "outputs": [
    {
     "name": "stdout",
     "output_type": "stream",
     "text": [
      "0    Bot\n",
      "1    Bot\n",
      "2    Bot\n",
      "3    Bot\n",
      "4    Bot\n",
      "5    Bot\n",
      "6    Bot\n",
      "7    Bot\n",
      "8    Bot\n",
      "9    Bot\n",
      "Name: bairro, dtype: object\n"
     ]
    }
   ],
   "source": [
    "#Para aplicar uma função qualquer aos dados, o comando é  .apply\n",
    "\n",
    "def truncar(bairro):\n",
    "    return bairro[:3]\n",
    "\n",
    "print(df[\"bairro\"].apply(truncar).head(n=10))\n"
   ]
  },
  {
   "cell_type": "code",
   "execution_count": 41,
   "metadata": {},
   "outputs": [
    {
     "name": "stdout",
     "output_type": "stream",
     "text": [
      "   condominio  quartos  suites  vagas  area    bairro   preco       pm2\n",
      "0         350        1     0.0    1.0    21  Botafogo  340000  16190.48\n",
      "1         800        1     0.0    1.0    64  Botafogo  770000  12031.25\n",
      "2         674        1     0.0    1.0    61  Botafogo  600000   9836.07\n",
      "3         700        1     1.0    1.0    70  Botafogo  700000  10000.00\n",
      "4         440        1     0.0    1.0    44  Botafogo  515000  11704.55\n"
     ]
    }
   ],
   "source": [
    "#Criar um dataset a partir de outro\n",
    "\n",
    "df2 = df.head()\n",
    "print(df2)"
   ]
  },
  {
   "cell_type": "code",
   "execution_count": 43,
   "metadata": {},
   "outputs": [
    {
     "name": "stdout",
     "output_type": "stream",
     "text": [
      "   condominio  quartos  suites  vagas  area    bairro   preco       pm2\n",
      "0         350        1     0.0    1.0    21  Botafogo  340000  16190.48\n",
      "1         800        1     0.0    1.0    64  Botafogo  770000       NaN\n",
      "2         674        1     0.0    1.0    61  Botafogo  600000   9836.07\n",
      "3         700        1     1.0    1.0    70  Botafogo  700000  10000.00\n",
      "4         440        1     0.0    1.0    44  Botafogo  515000  11704.55\n"
     ]
    }
   ],
   "source": [
    "#O comando replace substitui um valor específico por outro.\n",
    "#Para exemplificar vamos usar o Not a Number (Nan) do numpy para vermos algumas aplicações\n",
    "\n",
    "df2 = df2.replace({\"pm2\": {12031.25: np.nan}})\n",
    "print(df2)"
   ]
  },
  {
   "cell_type": "code",
   "execution_count": 46,
   "metadata": {},
   "outputs": [
    {
     "name": "stdout",
     "output_type": "stream",
     "text": [
      "   condominio  quartos  suites  vagas  area    bairro   preco       pm2\n",
      "0         350        1     0.0    1.0    21  Botafogo  340000  16190.48\n",
      "2         674        1     0.0    1.0    61  Botafogo  600000   9836.07\n",
      "3         700        1     1.0    1.0    70  Botafogo  700000  10000.00\n",
      "4         440        1     0.0    1.0    44  Botafogo  515000  11704.55\n"
     ]
    }
   ],
   "source": [
    "#O comando dropna() elimina linhas que tenha o NaN\n",
    "\n",
    "print(df2.dropna())"
   ]
  },
  {
   "cell_type": "code",
   "execution_count": 47,
   "metadata": {},
   "outputs": [
    {
     "name": "stdout",
     "output_type": "stream",
     "text": [
      "   condominio  quartos  suites  vagas  area    bairro   preco       pm2\n",
      "0         350        1     0.0    1.0    21  Botafogo  340000  16190.48\n",
      "1         800        1     0.0    1.0    64  Botafogo  770000     99.00\n",
      "2         674        1     0.0    1.0    61  Botafogo  600000   9836.07\n",
      "3         700        1     1.0    1.0    70  Botafogo  700000  10000.00\n",
      "4         440        1     0.0    1.0    44  Botafogo  515000  11704.55\n"
     ]
    }
   ],
   "source": [
    "#Pode-se ainda substituir todos os valores NaN por um outro valor qualquer\n",
    "\n",
    "print(df2.fillna(99))"
   ]
  },
  {
   "cell_type": "code",
   "execution_count": 48,
   "metadata": {},
   "outputs": [
    {
     "name": "stdout",
     "output_type": "stream",
     "text": [
      "   condominio  quartos  suites  vagas   area  bairro  preco    pm2\n",
      "0       False    False   False  False  False   False  False  False\n",
      "1       False    False   False  False  False   False  False   True\n",
      "2       False    False   False  False  False   False  False  False\n",
      "3       False    False   False  False  False   False  False  False\n",
      "4       False    False   False  False  False   False  False  False\n"
     ]
    }
   ],
   "source": [
    "#Para exibir quais valores são NaN\n",
    "\n",
    "print(df2.isna())"
   ]
  },
  {
   "cell_type": "markdown",
   "metadata": {},
   "source": [
    "## Visualização de Dados  \n",
    "\n",
    "Partiremos agora para visualização de dados com o pandas.  \n",
    "Os métodos de visualização do pandas são construídos com base no matplotlib para exploração rápida dos dados. \n",
    "O método .plot() pode ser encadeado para gerar visualização de diversos tipos, como histograma, área, pizza e dispersão, com respectivamente .hist(), .area(), .pie() e .scatter(), além de vários outros.\n"
   ]
  },
  {
   "cell_type": "code",
   "execution_count": 50,
   "metadata": {},
   "outputs": [
    {
     "data": {
      "text/plain": [
       "<matplotlib.axes._subplots.AxesSubplot at 0x7f21b28a2d30>"
      ]
     },
     "execution_count": 50,
     "metadata": {},
     "output_type": "execute_result"
    },
    {
     "data": {
      "image/png": "[encoded data removed]",
      "text/plain": [
       "<Figure size 432x288 with 1 Axes>"
      ]
     },
     "metadata": {
      "needs_background": "light"
     },
     "output_type": "display_data"
    }
   ],
   "source": [
    "#Para plotar um histograma basta usar o plot.hist\n",
    "#Esse comando, por padrão, usa 10 bins, ou seja, divide os dados em 10 partes\n",
    "\n",
    "df[\"preco\"].plot.hist()"
   ]
  },
  {
   "cell_type": "code",
   "execution_count": 51,
   "metadata": {},
   "outputs": [
    {
     "data": {
      "text/plain": [
       "<matplotlib.axes._subplots.AxesSubplot at 0x7f21b281f978>"
      ]
     },
     "execution_count": 51,
     "metadata": {},
     "output_type": "execute_result"
    },
    {
     "data": {
      "image/png": "[encoded data removed]",
      "text/plain": [
       "<Figure size 432x288 with 1 Axes>"
      ]
     },
     "metadata": {
      "needs_background": "light"
     },
     "output_type": "display_data"
    }
   ],
   "source": [
    "#Abaixo, além de especificar a quantidade de bins, também é especificada cor das bordas como preta,\n",
    "#que por padrão é transparente.\n",
    "\n",
    "df[\"preco\"].plot.hist(bins=30, edgecolor='black')"
   ]
  },
  {
   "cell_type": "code",
   "execution_count": 52,
   "metadata": {},
   "outputs": [
    {
     "data": {
      "text/plain": [
       "<matplotlib.axes._subplots.AxesSubplot at 0x7f21b2748b38>"
      ]
     },
     "execution_count": 52,
     "metadata": {},
     "output_type": "execute_result"
    },
    {
     "data": {
      "image/png": "[encoded data removed]",
      "text/plain": [
       "<Figure size 432x288 with 1 Axes>"
      ]
     },
     "metadata": {
      "needs_background": "light"
     },
     "output_type": "display_data"
    }
   ],
   "source": [
    "#Plotando um gráfico de barras a partir de Bairros\n",
    "\n",
    "df[\"bairro\"].value_counts().plot.bar()"
   ]
  },
  {
   "cell_type": "code",
   "execution_count": 53,
   "metadata": {},
   "outputs": [
    {
     "data": {
      "text/plain": [
       "<matplotlib.axes._subplots.AxesSubplot at 0x7f21b273f588>"
      ]
     },
     "execution_count": 53,
     "metadata": {},
     "output_type": "execute_result"
    },
    {
     "data": {
      "image/png": "[encoded data removed]",
      "text/plain": [
       "<Figure size 432x288 with 1 Axes>"
      ]
     },
     "metadata": {
      "needs_background": "light"
     },
     "output_type": "display_data"
    }
   ],
   "source": [
    "#Agora, um gráfico de barras horizontais\n",
    "\n",
    "df[\"bairro\"].value_counts().plot.barh()\n"
   ]
  },
  {
   "cell_type": "code",
   "execution_count": 54,
   "metadata": {},
   "outputs": [
    {
     "data": {
      "text/plain": [
       "<matplotlib.axes._subplots.AxesSubplot at 0x7f21b26a6f60>"
      ]
     },
     "execution_count": 54,
     "metadata": {},
     "output_type": "execute_result"
    },
    {
     "data": {
      "image/png": "[encoded data removed]",
      "text/plain": [
       "<Figure size 432x288 with 1 Axes>"
      ]
     },
     "metadata": {
      "needs_background": "light"
     },
     "output_type": "display_data"
    }
   ],
   "source": [
    "#È possível colocar um título no gráfico\n",
    "\n",
    "df[\"bairro\"].value_counts().plot.barh(title=\"Número de apartamentos\")\n"
   ]
  },
  {
   "cell_type": "code",
   "execution_count": 55,
   "metadata": {},
   "outputs": [
    {
     "data": {
      "text/plain": [
       "<matplotlib.axes._subplots.AxesSubplot at 0x7f21b2621780>"
      ]
     },
     "execution_count": 55,
     "metadata": {},
     "output_type": "execute_result"
    },
    {
     "data": {
      "image/png": "[encoded data removed]",
      "text/plain": [
       "<Figure size 432x288 with 1 Axes>"
      ]
     },
     "metadata": {
      "needs_background": "light"
     },
     "output_type": "display_data"
    }
   ],
   "source": [
    "#Um gráfico de dispersão usando um DataFrame pode ser usado especificando-se\n",
    "#quais colunas usar como dados no eixo x e y:\n",
    "\n",
    "df.plot.scatter(x='preco', y='area')\n"
   ]
  },
  {
   "cell_type": "code",
   "execution_count": 56,
   "metadata": {},
   "outputs": [
    {
     "data": {
      "text/plain": [
       "<matplotlib.axes._subplots.AxesSubplot at 0x7f21b2582d30>"
      ]
     },
     "execution_count": 56,
     "metadata": {},
     "output_type": "execute_result"
    },
    {
     "data": {
      "image/png": "[encoded data removed]",
      "text/plain": [
       "<Figure size 432x288 with 1 Axes>"
      ]
     },
     "metadata": {},
     "output_type": "display_data"
    }
   ],
   "source": [
    "#É possível usar os styles do matplotlib\n",
    "\n",
    "plt.style.use('ggplot')\n",
    "df.plot.scatter(x='pm2', y='area')\n"
   ]
  },
  {
   "cell_type": "code",
   "execution_count": 57,
   "metadata": {},
   "outputs": [
    {
     "data": {
      "text/plain": [
       "<matplotlib.axes._subplots.AxesSubplot at 0x7f21b2573e10>"
      ]
     },
     "execution_count": 57,
     "metadata": {},
     "output_type": "execute_result"
    },
    {
     "data": {
      "image/png": "[encoded data removed]",
      "text/plain": [
       "<Figure size 432x288 with 1 Axes>"
      ]
     },
     "metadata": {},
     "output_type": "display_data"
    }
   ],
   "source": [
    "#Fazendo um gráfico de pizza\n",
    "\n",
    "df[\"quartos\"].value_counts().plot.pie()"
   ]
  },
  {
   "cell_type": "markdown",
   "metadata": {},
   "source": [
    "## Para Salvar\n",
    "\n",
    "- Assim como se lê um arquivo é possível salvar em arquivo o dataframe.\n",
    "- Basta usar o mesmo comando só que 'to' ao invés de 'read'\n"
   ]
  },
  {
   "cell_type": "code",
   "execution_count": 59,
   "metadata": {},
   "outputs": [
    {
     "name": "stdout",
     "output_type": "stream",
     "text": [
      "   Unnamed: 0  condominio  quartos  suites  vagas  area    bairro   preco  \\\n",
      "0           0         350        1     0.0    1.0    21  Botafogo  340000   \n",
      "1           1         800        1     0.0    1.0    64  Botafogo  770000   \n",
      "2           2         674        1     0.0    1.0    61  Botafogo  600000   \n",
      "3           3         700        1     1.0    1.0    70  Botafogo  700000   \n",
      "4           4         440        1     0.0    1.0    44  Botafogo  515000   \n",
      "\n",
      "        pm2  \n",
      "0  16190.48  \n",
      "1       NaN  \n",
      "2   9836.07  \n",
      "3  10000.00  \n",
      "4  11704.55  \n"
     ]
    }
   ],
   "source": [
    "#Para salvar nosso segundo dataframe, podemos fazer assim\n",
    "\n",
    "df2.to_csv(\"exercicio.csv\")\n",
    "\n",
    "print(pd.read_csv(\"exercicio.csv\"))"
   ]
  },
  {
   "cell_type": "code",
   "execution_count": null,
   "metadata": {},
   "outputs": [],
   "source": []
  }
 ],
 "metadata": {
  "kernelspec": {
   "display_name": "Python 3",
   "language": "python",
   "name": "python3"
  },
  "language_info": {
   "codemirror_mode": {
    "name": "ipython",
    "version": 3
   },
   "file_extension": ".py",
   "mimetype": "text/x-python",
   "name": "python",
   "nbconvert_exporter": "python",
   "pygments_lexer": "ipython3",
   "version": "3.7.3"
  }
 },
 "nbformat": 4,
 "nbformat_minor": 2
}
