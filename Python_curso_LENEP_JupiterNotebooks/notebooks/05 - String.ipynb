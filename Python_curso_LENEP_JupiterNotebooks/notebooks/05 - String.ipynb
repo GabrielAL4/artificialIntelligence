{
 "cells": [
  {
   "cell_type": "markdown",
   "metadata": {},
   "source": [
    "# Mini Curso de Python\n",
    "\n",
    "\n",
    "## Strings"
   ]
  },
  {
   "cell_type": "markdown",
   "metadata": {},
   "source": [
    "- Manipulação de strings é uma atividade freqüente em programas Python\n",
    "- Existe um módulo chamado string que contém uma grande quantidade de funcionalidades para trabalhar com strings\n",
    "- Para usá-las:\n",
    "    - from string import *"
   ]
  },
  {
   "cell_type": "markdown",
   "metadata": {},
   "source": [
    "### find (substring, inicio, fim)\n",
    "  \n",
    "- Retorna o índice da primeira ocorrência de substring\n",
    "- _inicio e fim_ são opcionais e indicam os intervalos de índices onde a busca será efetuada"
   ]
  },
  {
   "cell_type": "code",
   "execution_count": 5,
   "metadata": {},
   "outputs": [
    {
     "name": "stdout",
     "output_type": "stream",
     "text": [
      "Qual a posição da palavra 'trabalhar':  13\n",
      "Qual a posição da palavra 'C/C++':  -1  indica que não existe\n",
      "Usando o operador in para ter a resposta de existência. Tem a palavra 'Python' no texto?  True\n"
     ]
    }
   ],
   "source": [
    "s = \"Aprendendo a trabalhar com strings em Python\"\n",
    "print(\"Qual a posição da palavra 'trabalhar': \",s.find(\"trabalhar\"))\n",
    "print(\"Qual a posição da palavra 'C/C++': \", s.find(\"C/C++\"), \" indica que não existe\")\n",
    "print(\"Usando o operador in para ter a resposta de existência. Tem a palavra 'Python' no texto? \",\"Python\" in s)"
   ]
  },
  {
   "cell_type": "markdown",
   "metadata": {},
   "source": [
    "### join(seqüência)\n",
    "  \n",
    "- Retorna uma string com todos os elementos da seqüência concatenados\n",
    "- Os elementos da seqüência têm que ser strings\n",
    "- A string objeto é usada como separador entre os elementos"
   ]
  },
  {
   "cell_type": "code",
   "execution_count": 6,
   "metadata": {},
   "outputs": [
    {
     "name": "stdout",
     "output_type": "stream",
     "text": [
      "usr/bin/python\n"
     ]
    }
   ],
   "source": [
    "x = \"/\".join((\"usr\",\"bin\",\"python\"))\n",
    "print(x)"
   ]
  },
  {
   "cell_type": "markdown",
   "metadata": {},
   "source": [
    "### lower() e upper()\n",
    "  \n",
    "- **lower()** - Retorna a string com todos os caracteres maiúsculos convertidos para minúsculos \n",
    "- **upper()** - Retorna a string com todos os caracteres minúsculos convertidos para maiúsculos\n"
   ]
  },
  {
   "cell_type": "code",
   "execution_count": 8,
   "metadata": {},
   "outputs": [
    {
     "name": "stdout",
     "output_type": "stream",
     "text": [
      "Em maiúsculas:  PYTHON\n",
      "Em minúsculas:  python\n"
     ]
    }
   ],
   "source": [
    "texto = \"Python\"\n",
    "print(\"Em maiúsculas: \" , texto.upper())\n",
    "print(\"Em minúsculas: \" , texto.lower())"
   ]
  },
  {
   "cell_type": "markdown",
   "metadata": {},
   "source": [
    "### replace(velho,novo,n)\n",
    "\n",
    "- Substitui as instâncias da substring velho por novo\n",
    "- Se n for especificado, apenas n instâncias são trocadas\n",
    "- Caso contrário, todas as instâncias são trocadas"
   ]
  },
  {
   "cell_type": "code",
   "execution_count": 11,
   "metadata": {},
   "outputs": [
    {
     "name": "stdout",
     "output_type": "stream",
     "text": [
      "O texto escrito foi:  Python é uma linguagem de programação de tipagem dinâmica. No Python, as variáveis podem mudar seus tipos de forma dinâmica \n",
      "\n",
      "Substituição 1:  Python é uma linguagem de programação de tipagem mutável. No Python, as variáveis podem mudar seus tipos de forma mutável \n",
      "\n",
      "Substituição 2:   é uma linguagem de programação de tipagem dinâmica. No Python, as variáveis podem mudar seus tipos de forma dinâmica\n"
     ]
    }
   ],
   "source": [
    "s = \"Python é uma linguagem de programação de tipagem dinâmica. No Python, as variáveis podem mudar seus tipos de forma dinâmica\"\n",
    "print(\"O texto escrito foi: \",s, \"\\n\")\n",
    "print(\"Substituição 1: \", s.replace(\"dinâmica\", \"mutável\"), \"\\n\")\n",
    "print(\"Substituição 2: \", s.replace(\"Python\",\"\",1))"
   ]
  },
  {
   "cell_type": "markdown",
   "metadata": {},
   "source": [
    "### split(separador)\n",
    "  \n",
    "- Retorna uma lista com as substrings presentes entre cópias da string separador\n",
    "- Faz o contrário do método join\n",
    "- Se separador não for especificado, é assumido seqüências de caracteres em branco, tabs ou newlines"
   ]
  },
  {
   "cell_type": "code",
   "execution_count": 13,
   "metadata": {},
   "outputs": [
    {
     "name": "stdout",
     "output_type": "stream",
     "text": [
      "['xxx', 'yyy', 'zzz', 'xxx', 'yyy', 'zzz']\n",
      "['', ' yyy zzz ', ' yyy zzz']\n"
     ]
    }
   ],
   "source": [
    "s = \"xxx yyy zzz xxx yyy zzz\"\n",
    "print(s.split())\n",
    "print(s.split('xxx'))"
   ]
  },
  {
   "cell_type": "markdown",
   "metadata": {},
   "source": [
    "### strip(ch)\n",
    "\n",
    "- Retorna a string sem caracteres iniciais ou finais que estejam na string ch\n",
    "- Se ch não for especificada, retira caracteres em branco\n",
    "- Pode-se também usar rstrip() para retirar caracteres à direita (final) ou lstrip() para retirar caracteres à esquerda (início)"
   ]
  },
  {
   "cell_type": "code",
   "execution_count": 14,
   "metadata": {},
   "outputs": [
    {
     "name": "stdout",
     "output_type": "stream",
     "text": [
      "xxx afdsfa\n",
      "zzz\n",
      " xxx\n"
     ]
    }
   ],
   "source": [
    "print(\" xxx afdsfa \".strip())\n",
    "print(\"xxx yyy zzz xxx\".strip(\"xy \"))\n",
    "print(\" xxx \".rstrip())"
   ]
  }
 ],
 "metadata": {
  "kernelspec": {
   "display_name": "Python 3",
   "language": "python",
   "name": "python3"
  },
  "language_info": {
   "codemirror_mode": {
    "name": "ipython",
    "version": 3
   },
   "file_extension": ".py",
   "mimetype": "text/x-python",
   "name": "python",
   "nbconvert_exporter": "python",
   "pygments_lexer": "ipython3",
   "version": "3.7.3"
  }
 },
 "nbformat": 4,
 "nbformat_minor": 2
}
