{
 "cells": [
  {
   "cell_type": "markdown",
   "metadata": {},
   "source": [
    "# Mini Curso de Python\n",
    "\n",
    "\n",
    "## Funções"
   ]
  },
  {
   "cell_type": "markdown",
   "metadata": {},
   "source": [
    "### Para que funções ?\n",
    "\n",
    "* Um problema é dividido em diversos sub-problemas\n",
    "* As soluções dos sub-problemas são combinadas numa solução do problema maior\n",
    "* Cada sub-programa é invocado por meio de um identificador e uma lista de entradas\n",
    "* Permite especificar como um problema pode ser resolvido em geral\n",
    "* O mesmo sub-programa pode ser invocado para resolver diversos problemas de mesma natureza mas com valores específicos diferentes\n",
    "\n",
    "**Formato Geral:**  \n",
    "def _nome_ (_arg, arg, arg_):  \n",
    "&nbsp;&nbsp;&nbsp;&nbsp;&nbsp;&nbsp;&nbsp;&nbsp;comando  \n",
    "&nbsp;&nbsp;&nbsp;&nbsp;&nbsp;&nbsp;&nbsp;&nbsp;...  \n",
    "&nbsp;&nbsp;&nbsp;&nbsp;&nbsp;&nbsp;&nbsp;&nbsp;comando  \n",
    "  \n",
    "Onde:  \n",
    "**nome -** é o nome da função  \n",
    "**args -** são argumentos das funções  \n",
    "**comandos -** as instruções a serem executadas na função   \n",
    "  \n",
    "Para indicar o valor a ser devolvido como o resultado da função, usa-se o comando return que tem o formato _return_ expressão  \n",
    "   \n",
    "     \n",
    "Se uma função chega a seu fim sem nenhum valor de retorno ter sido especificado, o valor de retorno é _None_\n"
   ]
  },
  {
   "cell_type": "code",
   "execution_count": 3,
   "metadata": {},
   "outputs": [
    {
     "data": {
      "text/plain": [
       "'Oi'"
      ]
     },
     "execution_count": 3,
     "metadata": {},
     "output_type": "execute_result"
    }
   ],
   "source": [
    "#Criada uma função simples que retorna a palavra Oi\n",
    "#Observe que quando a função é chamada ela exibe o valor devolvido\n",
    "\n",
    "def f():\n",
    "    return \"Oi\"\n",
    "\n",
    "f()"
   ]
  },
  {
   "cell_type": "code",
   "execution_count": 6,
   "metadata": {},
   "outputs": [
    {
     "data": {
      "text/plain": [
       "'Oi Python!'"
      ]
     },
     "execution_count": 6,
     "metadata": {},
     "output_type": "execute_result"
    }
   ],
   "source": [
    "#Agora a função recebe por parâmetro um texto representativo do nome e a função devolve oi junto com o nome\n",
    "\n",
    "def f(nome):\n",
    "    return \"Oi \" + nome + \"!\"\n",
    "\n",
    "f(\"Python\")"
   ]
  },
  {
   "cell_type": "code",
   "execution_count": 8,
   "metadata": {},
   "outputs": [
    {
     "name": "stdout",
     "output_type": "stream",
     "text": [
      "10000000000\n"
     ]
    }
   ],
   "source": [
    "#A função retorna x^x\n",
    "\n",
    "def f(x):\n",
    "    return x**x\n",
    "\n",
    "print(f(10))"
   ]
  },
  {
   "cell_type": "code",
   "execution_count": 10,
   "metadata": {},
   "outputs": [
    {
     "name": "stdout",
     "output_type": "stream",
     "text": [
      "2\n",
      "6\n"
     ]
    }
   ],
   "source": [
    "#É possível definir um valor padrão para um argumento\n",
    "#No caso do exemplo abaixo, n tem que ser passado por parâmetro e o m pode ou não ser passado. Se não for passado\n",
    "#será assumido o valor 1\n",
    "def f(n,m=1):\n",
    "    return n*m\n",
    "\n",
    "#Imprimindo o resultado da função usando o valor padrão 1 para m\n",
    "print(f(2))\n",
    "\n",
    "#Imprimindo o resultado da função passando m por parâmetro\n",
    "print(f(2,3))"
   ]
  },
  {
   "cell_type": "code",
   "execution_count": 12,
   "metadata": {},
   "outputs": [
    {
     "name": "stdout",
     "output_type": "stream",
     "text": [
      "2.0\n"
     ]
    }
   ],
   "source": [
    "#É possível passar os argumentos sem empregar a ordem de definição desde que se nomeie cada valor passado com \n",
    "#o nome do argumento correspondente\n",
    "\n",
    "def dividir(dividendo, divisor):\n",
    "    return dividendo/divisor\n",
    "\n",
    "#Observe que os parâmetros na chamada do método não estão na mesma ordem, mas vão respeitar os nomes\n",
    "print (dividir(divisor=2, dividendo=4))"
   ]
  },
  {
   "cell_type": "code",
   "execution_count": 15,
   "metadata": {},
   "outputs": [
    {
     "name": "stdout",
     "output_type": "stream",
     "text": [
      "24\n",
      "Retorna o fatorial de n.\n"
     ]
    }
   ],
   "source": [
    "#Ao invés de usar comentários para descrever o que uma função, é mais vantajoso usar docstrings\n",
    "#- Uma constante string escrita logo após o cabeçalho da função (comando def)  \n",
    "#- Permite o acesso à documentação a partir do interpretador, usando a notação função . __doc__\n",
    "\n",
    "def fat(n):\n",
    "    \"Retorna o fatorial de n.\"\n",
    "    for i in range(n-1,1,-1): n*=i\n",
    "    return n\n",
    "\n",
    "print(fat(4))\n",
    "print (fat.__doc__)"
   ]
  },
  {
   "cell_type": "code",
   "execution_count": 17,
   "metadata": {},
   "outputs": [
    {
     "data": {
      "text/plain": [
       "4.5"
      ]
     },
     "execution_count": 17,
     "metadata": {},
     "output_type": "execute_result"
    }
   ],
   "source": [
    "#Se o último argumento de uma definição de função começa com *, todos os valores passados, a partir daquele, \n",
    "#são postos numa tupla\n",
    "\n",
    "def media(*valores):\n",
    "    total=0.0\n",
    "    for x in valores: total+=x\n",
    "    return total/len(valores)\n",
    "\n",
    "media(1,2,3,4,5,6,7,8)"
   ]
  },
  {
   "cell_type": "code",
   "execution_count": 19,
   "metadata": {},
   "outputs": [
    {
     "name": "stdout",
     "output_type": "stream",
     "text": [
      "1 2 {'x': 3}\n"
     ]
    }
   ],
   "source": [
    "#Se o último argumento de uma definição de função começa com **, todos os valores passados usando chaves, \n",
    "#a partir daquele, são postos num dicionário\n",
    "\n",
    "def f(a,b,**c):\n",
    "    print( a, b, c)\n",
    "\n",
    "f(1,2,x=3)"
   ]
  },
  {
   "cell_type": "code",
   "execution_count": 22,
   "metadata": {},
   "outputs": [
    {
     "data": {
      "text/plain": [
       "120"
      ]
     },
     "execution_count": 22,
     "metadata": {},
     "output_type": "execute_result"
    }
   ],
   "source": [
    "#Recursividade: é quando uma função chama ela mesma. Para criar esse tipo de função deve-se ter cuidado com\n",
    "#a condição de parada. No exemplo\n",
    "def fat(n):\n",
    "    if (n==1):\n",
    "        return 1\n",
    "    return n*fat(n-1)\n",
    "\n",
    "fat(5)"
   ]
  },
  {
   "cell_type": "code",
   "execution_count": null,
   "metadata": {},
   "outputs": [],
   "source": []
  }
 ],
 "metadata": {
  "kernelspec": {
   "display_name": "Python 3 (ipykernel)",
   "language": "python",
   "name": "python3"
  },
  "language_info": {
   "codemirror_mode": {
    "name": "ipython",
    "version": 3
   },
   "file_extension": ".py",
   "mimetype": "text/x-python",
   "name": "python",
   "nbconvert_exporter": "python",
   "pygments_lexer": "ipython3",
   "version": "3.11.4"
  }
 },
 "nbformat": 4,
 "nbformat_minor": 2
}
