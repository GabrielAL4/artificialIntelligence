{
 "cells": [
  {
   "cell_type": "markdown",
   "metadata": {},
   "source": [
    "# Mini Curso de Python\n",
    "\n",
    "\n",
    "## Dicionários"
   ]
  },
  {
   "cell_type": "markdown",
   "metadata": {},
   "source": [
    "  \n",
    "\n",
    "- São estruturas de dados que implementam _mapeamentos_\n",
    "- Um mapeamento é uma coleção de associações entre pares de valores\n",
    "- O primeiro elemento do par é chamado de chave e o outro de conteúdo\n",
    "- Uma constante do tipo dicionário é escrita _{ chave1:conteúdo1, ... chaveN:conteúdoN}_\n",
    "- Uma variável do tipo dicionário pode ser “indexada” da maneira habitual, isto é, usando colchetes\n",
    "- O conteúdo associado a uma chave pode ser alterado atribuindo-se àquela posição do dicionário\n",
    "- Novos valores podem ser acrescentados a um dicionário fazendo atribuição a uma chave ainda não definida\n",
    "- Não há ordem definida entre os pares chave/conteúdo de um dicionário"
   ]
  },
  {
   "cell_type": "code",
   "execution_count": 1,
   "metadata": {},
   "outputs": [
    {
     "name": "stdout",
     "output_type": "stream",
     "text": [
      "100\n",
      "150\n",
      "{'joao': 100, 'maria': 150, 'pedro': 10}\n"
     ]
    }
   ],
   "source": [
    "dic = {\"joao\":100,\"maria\":150}\n",
    "print(dic[\"joao\"])\n",
    "print(dic[\"maria\"])\n",
    "dic[\"pedro\"] = 10\n",
    "print(dic)\n"
   ]
  },
  {
   "cell_type": "markdown",
   "metadata": {},
   "source": [
    "### A função dict\n",
    "\n",
    "- A função dict é usada para construir dicionários e requer como parâmetros:\n",
    "    - Uma lista de tuplas, cada uma com um par chave/conteúdo, ou\n",
    "    - Uma seqüência de itens no formato chave=valor. Nesse caso, as chaves têm que ser strings, mas são escritas sem aspas"
   ]
  },
  {
   "cell_type": "code",
   "execution_count": 3,
   "metadata": {},
   "outputs": [
    {
     "name": "stdout",
     "output_type": "stream",
     "text": [
      "2\n",
      "conteudo\n",
      "1\n"
     ]
    }
   ],
   "source": [
    "d = dict([(1,2),('chave','conteudo')])\n",
    "print(d[1])\n",
    "print(d['chave'])\n",
    "d = dict(x=1,y=2)\n",
    "print(d['x'])"
   ]
  },
  {
   "cell_type": "markdown",
   "metadata": {},
   "source": [
    "### Métodos do dicionário\n",
    "  \n",
    "  \n",
    "1) **clear()** - Remove todos os elementos do dicionário"
   ]
  },
  {
   "cell_type": "code",
   "execution_count": 6,
   "metadata": {},
   "outputs": [
    {
     "name": "stdout",
     "output_type": "stream",
     "text": [
      "{} {}\n",
      "{'Joao': [1, 2, 3], 'Maria': [3, 4]}\n",
      "{'Joao': [1, 2, 3], 'Maria': [3, 4], 'Pedro': [5, 6]}\n"
     ]
    }
   ],
   "source": [
    "x= { \"Joao\":\"a\", \"Maria\":\"b\" }\n",
    "y = x\n",
    "x.clear()\n",
    "print (x,y)"
   ]
  },
  {
   "cell_type": "markdown",
   "metadata": {},
   "source": [
    "### Métodos do dicionário\n",
    "  \n",
    "  \n",
    "2) **copy()** - Retorna um outro dicionário com os mesmos pares chave/conteúdo"
   ]
  },
  {
   "cell_type": "code",
   "execution_count": 7,
   "metadata": {},
   "outputs": [
    {
     "name": "stdout",
     "output_type": "stream",
     "text": [
      "{'Joao': [1, 2, 3], 'Maria': [3, 4]}\n",
      "{'Joao': [1, 2, 3], 'Maria': [3, 4], 'Pedro': [5, 6]}\n"
     ]
    }
   ],
   "source": [
    "x = {\"Joao\":[1,2], \"Maria\":[3,4]}\n",
    "y = x.copy()\n",
    "y [\"Pedro\"]=[5,6]\n",
    "x [\"Joao\"] += [3]\n",
    "print(x)\n",
    "print(y)"
   ]
  },
  {
   "cell_type": "markdown",
   "metadata": {},
   "source": [
    "### Métodos do dicionário\n",
    "  \n",
    "  \n",
    "3) **fromkeys(lista,valor)** - Retorna um novo dicionário cujas chaves são elementos de lista e cujos valores são todos iguais a _valor_"
   ]
  },
  {
   "cell_type": "code",
   "execution_count": 9,
   "metadata": {},
   "outputs": [
    {
     "data": {
      "text/plain": [
       "{2: None, 3: None}"
      ]
     },
     "execution_count": 9,
     "metadata": {},
     "output_type": "execute_result"
    }
   ],
   "source": [
    "{}.fromkeys([2,3])"
   ]
  },
  {
   "cell_type": "markdown",
   "metadata": {},
   "source": [
    "### Métodos do dicionário\n",
    "  \n",
    "4) **get(chave,valor)** - Obtém o conteúdo da chave"
   ]
  },
  {
   "cell_type": "code",
   "execution_count": 11,
   "metadata": {},
   "outputs": [
    {
     "name": "stdout",
     "output_type": "stream",
     "text": [
      "None\n",
      "a\n",
      "N/A\n"
     ]
    }
   ],
   "source": [
    "dic = { \"Joao\":\"a\", \"Maria\":\"b\" }\n",
    "dic.get(\"Pedro\")\n",
    "print(dic.get(\"Pedro\"))\n",
    "print(dic.get(\"Joao\"))\n",
    "print( dic.get(\"Carlos\",\"N/A\"))"
   ]
  },
  {
   "cell_type": "markdown",
   "metadata": {},
   "source": [
    "### Métodos do dicionário\n",
    "  \n",
    "6) **items()** - Retorna uma lista com todos os pares chave/conteúdo do dicionário\n",
    "7) **keys()** - Retorna uma lista com todas as chaves do dicionário\n",
    "8) **values()** - Retorna uma lista com todos os valores do dicionário"
   ]
  },
  {
   "cell_type": "code",
   "execution_count": 17,
   "metadata": {},
   "outputs": [
    {
     "name": "stdout",
     "output_type": "stream",
     "text": [
      "dict_items([('Joao', 'a'), ('Maria', 'b')])\n",
      "dict_keys(['Joao', 'Maria'])\n",
      "dict_values(['a', 'b'])\n"
     ]
    }
   ],
   "source": [
    "dic = { \"Joao\":\"a\", \"Maria\":\"b\" }\n",
    "print(dic.items())\n",
    "print(dic.keys())\n",
    "print(dic.values())"
   ]
  },
  {
   "cell_type": "markdown",
   "metadata": {},
   "source": [
    "### Métodos do dicionário\n",
    "  \n",
    "9) **pop(chave)** - Obtém o valor correspondente a chave e remove o par chave/valor dodicionário\n",
    "- **popitem** - Retorna e remove um par chave/valor aleatório do dicionário\n",
    "- **update(dic)** - Atualiza um dicionário com os elementos de outro dicionário"
   ]
  },
  {
   "cell_type": "code",
   "execution_count": 18,
   "metadata": {},
   "outputs": [
    {
     "name": "stdout",
     "output_type": "stream",
     "text": [
      "1\n",
      "{'y': 2}\n"
     ]
    }
   ],
   "source": [
    "d = {'x': 1, 'y': 2}\n",
    "print(d.pop('x'))\n",
    "print(d)"
   ]
  }
 ],
 "metadata": {
  "kernelspec": {
   "display_name": "Python 3",
   "language": "python",
   "name": "python3"
  },
  "language_info": {
   "codemirror_mode": {
    "name": "ipython",
    "version": 3
   },
   "file_extension": ".py",
   "mimetype": "text/x-python",
   "name": "python",
   "nbconvert_exporter": "python",
   "pygments_lexer": "ipython3",
   "version": "3.7.3"
  }
 },
 "nbformat": 4,
 "nbformat_minor": 2
}
