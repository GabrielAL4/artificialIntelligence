{
 "cells": [
  {
   "cell_type": "markdown",
   "metadata": {},
   "source": [
    "# Mini Curso de Python\n",
    "\n",
    "\n",
    "## Estruturas de controle de fluxo"
   ]
  },
  {
   "cell_type": "markdown",
   "metadata": {},
   "source": [
    "O **if** é uma estrutura de condição que permite avaliar uma expressão e, de acordo com seu resultado, executar uma determinada ação."
   ]
  },
  {
   "cell_type": "code",
   "execution_count": 7,
   "metadata": {},
   "outputs": [
    {
     "name": "stdout",
     "output_type": "stream",
     "text": [
      "Informe X: 3\n",
      "Informe Y: 4\n",
      "O ponto ( 3.0 , 4.0 ) está no primeiro quadrante\n"
     ]
    }
   ],
   "source": [
    "x = float(input(\"Informe X: \"))\n",
    "y = float(input(\"Informe Y: \"))\n",
    "\n",
    "if (x>0 and y>0):\n",
    "    print(\"O ponto (\",x,\",\",y,\") está no primeiro quadrante\")\n",
    "elif (x<0 and y>0):\n",
    "    print(\"O ponto (\",x,\",\",y,\") está no segundo quadrante\")\n",
    "elif (x<0 and y<0):\n",
    "    print(\"O ponto (\",x,\",\",y,\") está no terceiro quadrante\")\n",
    "elif (x>0 and y<0):\n",
    "    print(\"O ponto (\",x,\",\",y,\") está no quarto quadrante\")\n",
    "elif (x==0 and y==0):\n",
    "    print(\"O ponto (\",x,\",\",y,\") está na origem\")\n",
    "elif (x!=0):\n",
    "    print(\"O ponto (\",x,\",\",y,\") está no eixo de Y\")\n",
    "else:\n",
    "    print(\"O ponto (\",x,\",\",y,\") está no eixo de X\")"
   ]
  },
  {
   "cell_type": "markdown",
   "metadata": {},
   "source": [
    "O **while** executa um grupo de instruções num número infinito de vezes, baseado numa condição lógica"
   ]
  },
  {
   "cell_type": "code",
   "execution_count": 11,
   "metadata": {},
   "outputs": [
    {
     "name": "stdout",
     "output_type": "stream",
     "text": [
      "Informe o valor que se deseja calcular o fatorial: 4\n",
      "O fatorial de  4  é  24\n"
     ]
    }
   ],
   "source": [
    "n = int(input(\"Informe o valor que se deseja calcular o fatorial: \"))\n",
    "\n",
    "fat=1\n",
    "i=1\n",
    "while (i<=n):\n",
    "    fat=fat*i\n",
    "    i=i+1\n",
    "\n",
    "print(\"O fatorial de \", n, \" é \", fat)"
   ]
  },
  {
   "cell_type": "code",
   "execution_count": 13,
   "metadata": {},
   "outputs": [
    {
     "name": "stdout",
     "output_type": "stream",
     "text": [
      "Informe o valor que se deseja calcular o fatorial: 4\n",
      "O fatorial de  4  é  24\n"
     ]
    }
   ],
   "source": [
    "#O Python não possui estrutura do-while (como no C/C++). No entanto, esta pode ser simulada\n",
    "\n",
    "n = int(input(\"Informe o valor que se deseja calcular o fatorial: \"))\n",
    "\n",
    "fat=1\n",
    "i=1\n",
    "while True:\n",
    "    fat=fat*i\n",
    "    i=i+1\n",
    "    if (i>n):\n",
    "        break\n",
    "\n",
    "print(\"O fatorial de \", n, \" é \", fat)"
   ]
  },
  {
   "cell_type": "markdown",
   "metadata": {},
   "source": [
    "O **for** executa um conjunto de instruções em um número finito de vezes."
   ]
  },
  {
   "cell_type": "code",
   "execution_count": 15,
   "metadata": {},
   "outputs": [
    {
     "name": "stdout",
     "output_type": "stream",
     "text": [
      "Informe o valor que se deseja calcular o fatorial: 4\n",
      "O fatorial de  4  é  24\n"
     ]
    }
   ],
   "source": [
    "n = int(input(\"Informe o valor que se deseja calcular o fatorial: \"))\n",
    "\n",
    "fat=1\n",
    "for i in range(1,n+1):\n",
    "    fat=fat*i\n",
    "\n",
    "print(\"O fatorial de \", n, \" é \", fat)"
   ]
  },
  {
   "cell_type": "markdown",
   "metadata": {},
   "source": [
    "**Como fazer a melhor escolha de estrutura de loop?**  \n",
    "  \n",
    "\n",
    "* **for** - número de loops ou índice são conhecidos\n",
    "* **while** - Não se conhece o no de loops, mas pode ser 0 a N vezes. Logo, optar por teste de condição inicial.\n",
    "* **do-while** - Não se conhece o no de loops, mas deverá ocorrer pelo menos 1 vez a N vezes. Logo, optar por teste de condição final"
   ]
  }
 ],
 "metadata": {
  "kernelspec": {
   "display_name": "Python 3",
   "language": "python",
   "name": "python3"
  },
  "language_info": {
   "codemirror_mode": {
    "name": "ipython",
    "version": 3
   },
   "file_extension": ".py",
   "mimetype": "text/x-python",
   "name": "python",
   "nbconvert_exporter": "python",
   "pygments_lexer": "ipython3",
   "version": "3.7.3"
  }
 },
 "nbformat": 4,
 "nbformat_minor": 2
}
