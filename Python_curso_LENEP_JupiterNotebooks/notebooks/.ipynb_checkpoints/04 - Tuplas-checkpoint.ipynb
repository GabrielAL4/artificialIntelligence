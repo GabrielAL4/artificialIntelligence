{
 "cells": [
  {
   "cell_type": "markdown",
   "metadata": {},
   "source": [
    "# Mini Curso de Python\n",
    "\n",
    "\n",
    "## Listas"
   ]
  },
  {
   "cell_type": "markdown",
   "metadata": {},
   "source": [
    "  \n",
    "\n",
    "- São arranjos seqüenciais de informações mais simples\n",
    "- Caracterizam-se por permitir o acesso eficiente aos seus elementos em ordem seqüencial"
   ]
  },
  {
   "cell_type": "code",
   "execution_count": 3,
   "metadata": {},
   "outputs": [
    {
     "name": "stdout",
     "output_type": "stream",
     "text": [
      "[]\n",
      "[1, 2]\n"
     ]
    }
   ],
   "source": [
    "#Lista vazia\n",
    "\n",
    "print(\"Lista Vazia\")\n",
    "print([])\n",
    "\n",
    "print(\"Lista com dois elementos\")\n",
    "print([1,2])"
   ]
  },
  {
   "cell_type": "code",
   "execution_count": 19,
   "metadata": {},
   "outputs": [
    {
     "name": "stdout",
     "output_type": "stream",
     "text": [
      "A lista criada\n",
      "[1, 'a', (2+3j), ['ab', 'CD']]\n",
      "\n",
      "Primeiro elemento (Posição 0)\n",
      "1\n",
      "\n",
      "Terceiro elemento (Posição 2)\n",
      "(2+3j)\n",
      "\n",
      "Quarto elemento (Posição 3)\n",
      "['ab', 'CD']\n",
      "\n",
      "Ultimo elemento - posição -1\n",
      "['ab', 'CD']\n",
      "\n",
      "\n",
      "Alterando o valor da terceira posição para 2\n",
      "[2, 'a', (2+3j), ['ab', 'CD']]\n"
     ]
    }
   ],
   "source": [
    "#Os elementos de uma lista podem ser acessados por índices como strings\n",
    "#  O primeiro elemento tem índice 0\n",
    "#  O último elemento tem índice -1\n",
    "\n",
    "lista = [1, 'a', 2+3j, ['ab', 'CD']]\n",
    "print(\"A lista criada\")\n",
    "print(lista)\n",
    "\n",
    "print(\"\\nPrimeiro elemento (Posição 0)\")\n",
    "print(lista[0])\n",
    "print(\"\\nTerceiro elemento (Posição 2)\")\n",
    "print(lista[2])\n",
    "print(\"\\nQuarto elemento (Posição 3)\")\n",
    "print(lista[3])\n",
    "print(\"\\nUltimo elemento - posição -1\")\n",
    "print(lista[-1])\n",
    "\n",
    "print(\"\\n\\nAlterando o valor da terceira posição para 2\")\n",
    "lista[0] = 2\n",
    "print(lista)"
   ]
  },
  {
   "cell_type": "code",
   "execution_count": 21,
   "metadata": {},
   "outputs": [
    {
     "name": "stdout",
     "output_type": "stream",
     "text": [
      "Criando uma lista a partir da lista [0] * 4\n",
      "[0, 0, 0, 0]\n",
      "\n",
      "Concatenando a lista criada com uma lista com a repetição de 3 elementos 1\n",
      "[0, 0, 0, 0, 1, 1, 1]\n"
     ]
    }
   ],
   "source": [
    "#O operador + pode ser usado para concatenação e o operador * para repetição\n",
    "\n",
    "print(\"Criando uma lista a partir da lista [0] * 4\")\n",
    "lista = [0]*4\n",
    "print(lista)\n",
    "\n",
    "print(\"\\nConcatenando a lista criada com uma lista com a repetição de 3 elementos 1\")\n",
    "lista = lista + [1]*3\n",
    "print(lista)"
   ]
  },
  {
   "cell_type": "code",
   "execution_count": 23,
   "metadata": {},
   "outputs": [
    {
     "name": "stdout",
     "output_type": "stream",
     "text": [
      "A Lista criada\n",
      "[1, 'a', (2+3j), ['ab', 'CD']]\n",
      "\n",
      "Apagando o terceiro elemento da lista\n",
      "[1, 'a', ['ab', 'CD']]\n"
     ]
    }
   ],
   "source": [
    "#O operador del pode ser usado para remover elementos de uma lista\n",
    "\n",
    "lista = [1, 'a', 2+3j, ['ab', 'CD']]\n",
    "print(\"A Lista criada\")\n",
    "print(lista)\n",
    "\n",
    "print(\"\\nApagando o terceiro elemento da lista\")\n",
    "del(lista[2])\n",
    "print(lista)"
   ]
  },
  {
   "cell_type": "code",
   "execution_count": 26,
   "metadata": {},
   "outputs": [
    {
     "name": "stdout",
     "output_type": "stream",
     "text": [
      "A Lista criada\n",
      "[1, 'a', (2+3j), ['ab', 'CD']]\n",
      "\n",
      "Imprimindo a partir do segundo elemento (1) até o final\n",
      "['a', (2+3j), ['ab', 'CD']]\n",
      "\n",
      "Imprimindo a partir do primeiro elemento até o segundo elemento (1)\n",
      "[1]\n",
      "\n",
      "Imprimindo a partir do segundo elemento até o segundo elemento (2-1)\n",
      "['a']\n",
      "\n",
      "Imprimindo do primeiro elemento até o penúltimo (-1-1)\n",
      "[1, 'a', (2+3j)]\n"
     ]
    }
   ],
   "source": [
    "#A notação de fatias também pode ser usada, inclusive para atribuição\n",
    "\n",
    "print(\"A Lista criada\")\n",
    "lista = [1, 'a', 2+3j, ['ab', 'CD']]\n",
    "print(lista)\n",
    "\n",
    "print(\"\\nImprimindo a partir do segundo elemento (1) até o final\")\n",
    "print(lista[1:])\n",
    "\n",
    "print(\"\\nImprimindo a partir do primeiro elemento até o segundo elemento (1)\")\n",
    "print(lista[:1])\n",
    "\n",
    "print(\"\\nImprimindo a partir do segundo elemento até o segundo elemento (2-1)\")\n",
    "print(lista[1:2])\n",
    "\n",
    "print(\"\\nImprimindo do primeiro elemento até o penúltimo (-1-1)\")\n",
    "print(lista[0:-1])"
   ]
  },
  {
   "cell_type": "code",
   "execution_count": 27,
   "metadata": {},
   "outputs": [
    {
     "name": "stdout",
     "output_type": "stream",
     "text": [
      "A Lista criada\n",
      "\n",
      "Definindo o valor z a posição 2\n",
      "[1, 'z', 'y', ['ab', 'CD']]\n",
      "\n",
      "Definindo o valor x a posição 2 até a 3\n",
      "[1, ['x'], ['ab', 'CD']]\n",
      "\n",
      "Definindo os valores 2,3 e 4 para ocupar da 2a posição até a penúltima (-1-1) \n",
      "[1, 2, 3, 4, ['ab', 'CD']]\n",
      "\n",
      "Definindo os valores x,y,z para ocupar todas as posições até a terceira\n",
      "['x', 'y', 'z', 3, 4, ['ab', 'CD']]\n"
     ]
    }
   ],
   "source": [
    "# A atribuição a uma fatia requer que o valor atribuído seja uma seqüência (uma lista ou uma string, por exemplo)\n",
    "# A atribuição substitui os elementos da fatia pelos da seqüência\n",
    "\n",
    "print(\"A Lista criada\")\n",
    "lista = [1, 'y', ['ab', 'CD']]\n",
    "\n",
    "print(\"\\nDefinindo o valor z a posição 2\")\n",
    "lista [1:1] = ['z']\n",
    "print(lista)\n",
    "\n",
    "print(\"\\nDefinindo o valor x a posição 2 até a 3\")\n",
    "lista [1:3] = [['x']]\n",
    "print(lista)\n",
    "\n",
    "print(\"\\nDefinindo os valores 2,3 e 4 para ocupar da 2a posição até a penúltima (-1-1) \")\n",
    "lista [1:-1]= [2,3,4]\n",
    "print(lista)\n",
    "\n",
    "print(\"\\nDefinindo os valores x,y,z para ocupar todas as posições até a terceira\")\n",
    "lista [:2] = 'xyz'\n",
    "print(lista)"
   ]
  },
  {
   "cell_type": "code",
   "execution_count": 28,
   "metadata": {},
   "outputs": [
    {
     "name": "stdout",
     "output_type": "stream",
     "text": [
      "\n",
      "Imprime do início até a posição 2 com passo 3\n",
      "['a', 3]\n",
      "\n",
      "Imprime do início até o final com menos 1 de passo - vai imprimir reverso\n",
      "['x', 'd', 3, 2, 'a']\n"
     ]
    }
   ],
   "source": [
    "#É possível usar um terceiro número na notação de fatias designando o incremento\n",
    "# - Default é 1 , ou seja, toma os elementos de um em um do menor para o maior índice\n",
    "# - Pode-se usar qualquer número inteiro diferente de 0\n",
    "\n",
    "a = ['a', 2, 3, 'd', 'x']\n",
    "print(\"\\nImprime do início até a posição 2 com passo 3\")\n",
    "print(a[:3:2])\n",
    "\n",
    "print(\"\\nImprime do início até o final com menos 1 de passo - vai imprimir reverso\")\n",
    "print(a [::-1])"
   ]
  },
  {
   "cell_type": "code",
   "execution_count": 35,
   "metadata": {},
   "outputs": [
    {
     "name": "stdout",
     "output_type": "stream",
     "text": [
      "A Lista criada\n",
      "['a', 2, 3, 'd', 'x']\n",
      "\n",
      "Exibindo os valores de 2 até 5 de 2 em 2\n",
      "[2, 'd']\n",
      "\n",
      "Exibindo os valores do início até 2 de 2 em 2\n",
      "['a', 3]\n",
      "\n",
      "Exibindo todos os valores de trás pra frente (passo -1)\n",
      "['x', 'd', 3, 2, 'a']\n"
     ]
    }
   ],
   "source": [
    "#Incrementos em fatias\n",
    "print(\"A Lista criada\")\n",
    "a = ['a', 2, 3, 'd', 'x']\n",
    "print(a)\n",
    "\n",
    "print(\"\\nExibindo os valores de 2 até 5 de 2 em 2\")\n",
    "print(a[1:6:2])\n",
    "\n",
    "print(\"\\nExibindo os valores do início até 2 de 2 em 2\")\n",
    "print(a[:3:2])\n",
    "\n",
    "print(\"\\nExibindo todos os valores de trás pra frente (passo -1)\")\n",
    "print(a[::-1])\n"
   ]
  },
  {
   "cell_type": "code",
   "execution_count": 40,
   "metadata": {},
   "outputs": [
    {
     "name": "stdout",
     "output_type": "stream",
     "text": [
      "Lista de exemplo\n",
      "[1, 'a', 'bc']\n",
      "Mostrando se 1 está na lista:  True\n",
      "Mostrando se a está na lista True\n",
      "Mostrando se b está na lista False\n",
      "\n",
      "Mostrando se p está na palavra python True\n",
      "Mostrando se f está na palavra python False\n"
     ]
    }
   ],
   "source": [
    "#Operador in\n",
    "#Permite saber se um elemento pertence a uma lista\n",
    "#Serve também para strings\n",
    "\n",
    "print(\"Lista de exemplo\")\n",
    "lista=[1,'a','bc']\n",
    "print(lista)\n",
    "print(\"Mostrando se 1 está na lista: \", 1 in lista)\n",
    "print(\"Mostrando se a está na lista\",'a' in lista)\n",
    "print(\"Mostrando se b está na lista\",'b' in lista)\n",
    "print(\"\\nMostrando se p está na palavra python\",'p' in 'python')\n",
    "print(\"Mostrando se f está na palavra python\",'f' in 'python')"
   ]
  },
  {
   "cell_type": "code",
   "execution_count": 41,
   "metadata": {},
   "outputs": [
    {
     "data": {
      "text/plain": [
       "5"
      ]
     },
     "execution_count": 41,
     "metadata": {},
     "output_type": "execute_result"
    }
   ],
   "source": [
    "#Len -  retorna o número de elementos de lista\n",
    "\n",
    "lista = [1,2,3,4,5]\n",
    "len(lista)"
   ]
  },
  {
   "cell_type": "code",
   "execution_count": 42,
   "metadata": {},
   "outputs": [
    {
     "data": {
      "text/plain": [
       "1"
      ]
     },
     "execution_count": 42,
     "metadata": {},
     "output_type": "execute_result"
    }
   ],
   "source": [
    "#min - Retorna o menor elemento da lista\n",
    "\n",
    "min(lista)"
   ]
  },
  {
   "cell_type": "code",
   "execution_count": 43,
   "metadata": {},
   "outputs": [
    {
     "data": {
      "text/plain": [
       "5"
      ]
     },
     "execution_count": 43,
     "metadata": {},
     "output_type": "execute_result"
    }
   ],
   "source": [
    "#max - retorna o maior elemento da lista\n",
    "\n",
    "max(lista)"
   ]
  },
  {
   "cell_type": "code",
   "execution_count": 49,
   "metadata": {},
   "outputs": [
    {
     "name": "stdout",
     "output_type": "stream",
     "text": [
      "Imprimindo a string 'alo' convertida em lista:  ['a', 'l', 'o']\n",
      "Depois de trocar o segundo elemento por xx:  ['a', 'xx', 'o']\n",
      "Criada a string palavra que é o join de string vazia ('') com a list criadao:  axxo\n"
     ]
    }
   ],
   "source": [
    "#A função list pode ser usada para converter uma string numa lista\n",
    "#É útil pois uma lista pode ser modificada mas, uma string não\n",
    "#O join de strings pode ser usado para reverter - tornar a lista em string\n",
    "\n",
    "lista = list('alo')\n",
    "print(\"Imprimindo a string 'alo' convertida em lista: \", lista)\n",
    "\n",
    "lista[1] = 'xx'\n",
    "print(\"Depois de trocar o segundo elemento por xx: \", lista)\n",
    "\n",
    "palavra = ''.join(lista)\n",
    "print(\"Criada a string palavra que é o join de string vazia ('') com a list criadao: \", palavra)"
   ]
  },
  {
   "cell_type": "code",
   "execution_count": 58,
   "metadata": {},
   "outputs": [
    {
     "name": "stdout",
     "output_type": "stream",
     "text": [
      "Range com números de 0 a 2: range(0, 3)\n",
      "Range com números de 2 a 4 de 2 em 2 números: range(2, 5, 2)\n",
      "Range com números de 5 a 3 de -2 em -2: range(5, 2, -2)\n"
     ]
    }
   ],
   "source": [
    "#A função range\n",
    "#Retorna uma progressão aritmética de inteiros numa lista\n",
    "# - Forma geral: range (início, parada, incremento)\n",
    "# - início (opcional) é o primeiro valor a ser gerado (default: 0)\n",
    "# - parada é o limite da progressão: a progressão termina no último valor antes de parada\n",
    "# - incremento (opcional) é o passo da progressão (default:1)\n",
    "\n",
    "print(\"Range com números de 0 a 2:\", range(3))\n",
    "print(\"Range com números de 2 a 4 de 2 em 2 números:\", range(2,5,2))\n",
    "print(\"Range com números de 5 a 3 de -2 em -2:\", range(5,2,-2))"
   ]
  },
  {
   "cell_type": "code",
   "execution_count": 62,
   "metadata": {},
   "outputs": [
    {
     "name": "stdout",
     "output_type": "stream",
     "text": [
      "Imprimindo a lista:  [1, 2]\n",
      "Imprimindo a lista com o 3 adicionado:  [1, 2, 3]\n",
      "Imprimindo a lista com a lista [4,5] adicionados:  [1, 2, 3, [4, 5]]\n",
      "\n",
      "Mostrando o funcionamento do count\n"
     ]
    }
   ],
   "source": [
    "#append: Acrescenta o elemento no fim da lista\n",
    "\n",
    "lista=[1,2]\n",
    "print(\"Imprimindo a lista: \", lista)\n",
    "lista.append(3)\n",
    "print(\"Imprimindo a lista com o 3 adicionado: \", lista)\n",
    "lista.append([4,5])\n",
    "print(\"Imprimindo a lista com a lista [4,5] adicionados: \", lista)\n",
    "\n",
    "print(\"\\nMostrando o funcionamento do count\")"
   ]
  },
  {
   "cell_type": "code",
   "execution_count": 65,
   "metadata": {},
   "outputs": [
    {
     "name": "stdout",
     "output_type": "stream",
     "text": [
      "A lista:  [1, 2, 3, 4, 1, 2, 3, 4, 1, 2]\n",
      "Quantas vezes repete o valor 1:  3\n",
      "Quantas vezes repete o valor 3:  2\n"
     ]
    }
   ],
   "source": [
    "#count: Retorna quantas vezes o elemento aparece na lista\n",
    "print(\"A lista: \", lista)\n",
    "lista = [1,2,3,4,1,2,3,4,1,2]\n",
    "print(\"Quantas vezes repete o valor 1: \", lista.count(1))\n",
    "print(\"Quantas vezes repete o valor 3: \", lista.count(3))"
   ]
  },
  {
   "cell_type": "code",
   "execution_count": 66,
   "metadata": {},
   "outputs": [
    {
     "name": "stdout",
     "output_type": "stream",
     "text": [
      "A lista de exemplo:  [9, 8, 33, 12]\n",
      "Em que posição está o número 33:  2\n"
     ]
    }
   ],
   "source": [
    "#index: Retorna o índice da primeira ocorrência de elemento na lista\n",
    "lista = [9,8,33,12]\n",
    "print(\"A lista de exemplo: \", lista)\n",
    "print(\"Em que posição está o número 33: \", lista.index(33))"
   ]
  },
  {
   "cell_type": "code",
   "execution_count": 67,
   "metadata": {},
   "outputs": [
    {
     "name": "stdout",
     "output_type": "stream",
     "text": [
      "A lista inicial  [0, 1, 2, 3]\n",
      "A lista depois de inserir 'dois' no índice 1 [0, 'dois', 1, 2, 3]\n"
     ]
    }
   ],
   "source": [
    "#insert - insere elemento na lista na posição indicada por índice\n",
    "\n",
    "lista = [0,1,2,3]\n",
    "print(\"A lista inicial \", lista)\n",
    "lista.insert(1,'dois')\n",
    "print(\"A lista depois de inserir 'dois' no índice 1\", lista)"
   ]
  },
  {
   "cell_type": "code",
   "execution_count": 69,
   "metadata": {},
   "outputs": [
    {
     "name": "stdout",
     "output_type": "stream",
     "text": [
      "A lista inicial:  [1, 2, 3, 4]\n",
      "Executando pop sem índice. A função retorna o índice excluído:  4\n",
      "A lista depois do pop  [1, 2, 3]\n",
      "Removendo o item no index 1:  2\n",
      "A lista depois do segundo pop:  [1, 3]\n"
     ]
    }
   ],
   "source": [
    "#pop - Remove da lista o elemento na posição índice e o retorna\n",
    "#Se índice não for mencionado, é assumido o último\n",
    "\n",
    "lista = [1,2,3,4]\n",
    "print(\"A lista inicial: \", lista)\n",
    "print(\"Executando pop sem índice. A função retorna o índice excluído: \", lista.pop())\n",
    "print(\"A lista depois do pop \", lista)\n",
    "print(\"Removendo o item no index 1: \", lista.pop(1))\n",
    "print(\"A lista depois do segundo pop: \", lista)"
   ]
  },
  {
   "cell_type": "code",
   "execution_count": 70,
   "metadata": {},
   "outputs": [
    {
     "name": "stdout",
     "output_type": "stream",
     "text": [
      "A lista inicial:  ['oi', 'alo', 'ola']\n",
      "A lista depois do remove(alo)  ['oi', 'ola']\n"
     ]
    }
   ],
   "source": [
    "#remove - Remove da lista o primeiro elemento igual a elemento\n",
    "\n",
    "lista = ['oi', 'alo', 'ola']\n",
    "print(\"A lista inicial: \", lista)\n",
    "lista.remove('alo')\n",
    "print(\"A lista depois do remove(alo) \", lista)"
   ]
  },
  {
   "cell_type": "code",
   "execution_count": 72,
   "metadata": {},
   "outputs": [
    {
     "name": "stdout",
     "output_type": "stream",
     "text": [
      "A lista inicial:  [1, 2, 3]\n",
      "A lista depois do reverse:  [3, 2, 1]\n"
     ]
    }
   ],
   "source": [
    "#reverse - Inverte a ordem dos elementos da lista\n",
    "\n",
    "lista=[1,2,3]\n",
    "print(\"A lista inicial: \", lista)\n",
    "lista.reverse()\n",
    "print(\"A lista depois do reverse: \", lista)"
   ]
  },
  {
   "cell_type": "code",
   "execution_count": 74,
   "metadata": {},
   "outputs": [
    {
     "name": "stdout",
     "output_type": "stream",
     "text": [
      "A lista inicial:  [9, 8, 7, 1, 4, 2]\n",
      "A lista ordenada:  [1, 2, 4, 7, 8, 9]\n",
      "A lista ordenada em ordem inversa:  [9, 8, 7, 4, 2, 1]\n"
     ]
    }
   ],
   "source": [
    "#sort - Ordena a lista\n",
    "\n",
    "lista = [9,8,7,1,4,2]\n",
    "print(\"A lista inicial: \", lista)\n",
    "lista.sort()\n",
    "print(\"A lista ordenada: \", lista)\n",
    "\n",
    "lista.sort(reverse=True)\n",
    "print(\"A lista ordenada em ordem inversa: \", lista)"
   ]
  },
  {
   "cell_type": "markdown",
   "metadata": {},
   "source": [
    "### Matrizes\n",
    "  \n",
    "  \n",
    "- Listas podem ser usadas para guardar matrizes"
   ]
  },
  {
   "cell_type": "code",
   "execution_count": 75,
   "metadata": {},
   "outputs": [
    {
     "name": "stdout",
     "output_type": "stream",
     "text": [
      "[[1, 0, 0], [0, 1, 0], [0, 0, 1]]\n"
     ]
    }
   ],
   "source": [
    "#Criando uma matriz identidade 3x3\n",
    "\n",
    "m = []\n",
    "for i in range(3):\n",
    "    m.append([0]*3)\n",
    "    m[i][i]=1\n",
    "print (m)"
   ]
  }
 ],
 "metadata": {
  "kernelspec": {
   "display_name": "Python 3",
   "language": "python",
   "name": "python3"
  },
  "language_info": {
   "codemirror_mode": {
    "name": "ipython",
    "version": 3
   },
   "file_extension": ".py",
   "mimetype": "text/x-python",
   "name": "python",
   "nbconvert_exporter": "python",
   "pygments_lexer": "ipython3",
   "version": "3.7.3"
  }
 },
 "nbformat": 4,
 "nbformat_minor": 2
}
