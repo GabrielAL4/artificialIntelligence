{
 "cells": [
  {
   "cell_type": "markdown",
   "metadata": {},
   "source": [
    "# Mini Curso de Python\n",
    "\n",
    "\n",
    "## Tuplas"
   ]
  },
  {
   "cell_type": "markdown",
   "metadata": {},
   "source": [
    "### Tuplas    \n",
    "  \n",
    "- São estruturas de dados parecidas com listas, mas com a particularidade de serem imutáveis\n",
    "- São seqüências e, assim como listas, podem ser indexadas e fatiadas, mas não é possível modificá-las\n",
    "- Em geral, tuplas podem ser substituídas com vantagem por listas\n",
    "- Entretanto, algumas construções em Python requerem tuplas ou seqüências imutáveis, por exemplo:\n",
    "    - Tuplas (ao contrário de listas) podem ser usadas como chaves de dicionários\n",
    "    - Funções com número variável de argumentos acessam os argumentos por meio de tuplas\n",
    "    - O operador de formatação aceita tuplas, mas não listas\n"
   ]
  },
  {
   "cell_type": "code",
   "execution_count": 3,
   "metadata": {},
   "outputs": [
    {
     "name": "stdout",
     "output_type": "stream",
     "text": [
      "Tupla Vazia\n",
      "()\n",
      "Tupla com um elementos\n",
      "10\n"
     ]
    }
   ],
   "source": [
    "#Tupla vazia\n",
    "\n",
    "print(\"Tupla Vazia\")\n",
    "print(())\n",
    "\n",
    "#Uma tupla com apenas um elemento\n",
    "print(\"Tupla com um elementos\")\n",
    "print((10))"
   ]
  },
  {
   "cell_type": "code",
   "execution_count": 6,
   "metadata": {},
   "outputs": [
    {
     "name": "stdout",
     "output_type": "stream",
     "text": [
      "('a', 'b', 'c', 'd')\n",
      "(1, 2, 3)\n"
     ]
    }
   ],
   "source": [
    "# a função tuple constrói uma tupla a partir de uma seqüência qualquer\n",
    "\n",
    "print(tuple(\"abcd\"))\n",
    "print(tuple([1,2,3]))"
   ]
  },
  {
   "cell_type": "markdown",
   "metadata": {},
   "source": [
    "### O operador de formatação\n",
    "  \n",
    "- Strings suportam o operador % que, dada uma string especial (template) e um valor, produz uma string formatada\n",
    "- O formato geral é\n",
    "    - _template % valor_\n",
    "    - O template é uma string entremeada por códigos de formatação\n",
    "    - Um código de formatação é em geral composto do caracter % seguido de uma letra descritiva do tipo do valor a formatar (s para string, f para float, d para inteiro, etc)"
   ]
  },
  {
   "cell_type": "code",
   "execution_count": 10,
   "metadata": {},
   "outputs": [
    {
     "name": "stdout",
     "output_type": "stream",
     "text": [
      "Usando formatação de inteiro (%d)\n",
      "====100====\n",
      "Usando formatação de float (%f)\n",
      "====1.000000====\n",
      "Formatando uma tupla\n",
      "Pedro tem 10 anos\n"
     ]
    }
   ],
   "source": [
    "#Exemplo de operador de formatação\n",
    "\n",
    "print(\"Usando formatação de inteiro (%d)\")\n",
    "print('====%d====' % 100)\n",
    "print(\"Usando formatação de float (%f)\")\n",
    "print('====%f====' % 1)\n",
    "\n",
    "print(\"Formatando uma tupla\")\n",
    "template = \"%s tem %d anos\"\n",
    "tupla = ('Pedro', 10)\n",
    "print(template % tupla)"
   ]
  },
  {
   "cell_type": "markdown",
   "metadata": {},
   "source": [
    "### Como funciona a formatação\n",
    "  \n",
    "- Caracter % \n",
    "- Flags de conversão (opcionais):\n",
    "    - indica alinhamento à esquerda\n",
    "    - + indica que um sinal deve preceder o valor convertido\n",
    "    - \" \" (um branco) indica que um espaço deve preceder números positivos\n",
    "    - 0 indica preenchimento à esquerda com zeros\n",
    "- Comprimento mínimo do campo (opcional)\n",
    "    - O valor formatado terá este comprimento no mínimo\n",
    "    - Se igual a * (asterisco), o comprimento será  lido da tupla\n",
    "- Um “.” (ponto) seguido pela precisão (opcional)\n",
    "    - Usado para converter as casas decimais de floats\n",
    "    - Se aplicado para strings, indica o comprimento máximo\n",
    "    - Se igual a *, o valor será lido da tupla\n",
    "- Caracter indicador do tipo de formato"
   ]
  },
  {
   "cell_type": "markdown",
   "metadata": {},
   "source": [
    "### Tipos de formato\n",
    "\n",
    "| Indicador \t|<p align=\"left\"> Tipo de Formato \t|\n",
    "|-----------\t|---------------------------------------------------------------------------------\t|\n",
    "| d,i \t| <p align=\"left\">Número inteiro escrito em decimal\t|\n",
    "| o \t| <p align=\"left\">Número inteiro sem sinal escrito em octal \t|\n",
    "| u \t| <p align=\"left\">Número inteiro sem sinal escrito em decimal \t|\n",
    "| x \t| <p align=\"left\">Número inteiro sem sinal escrito em hexadecimal (minúsculas) \t|\n",
    "| X \t| <p align=\"left\">Número inteiro sem sinal escrito em hexadecimal (maiúsculas) \t|\n",
    "| e \t| <p align=\"left\">Número de ponto flutuante escrito em notação científica ('e' minúsculo) \t|\n",
    "| E \t| <p align=\"left\">Número de ponto flutuante escrito em notação científica ('E' maiúsculo) \t|\n",
    "| f, F \t| <p align=\"left\">Número de ponto flutuante escrito em notação convencional \t|\n",
    "| G \t| <p align=\"left\">Mesmo que E se expoente é maior que ­4. Caso contrario, igual a F \t|\n",
    "| g \t| <p align=\"left\">Mesmo que e se expoente é maior que ­4. Caso contrario, igual a f \t|\n",
    "| c \t| <p align=\"left\">Caractere único (usado com inteiro ou string de tamanho 1) \t|\n",
    "| r \t| <p align=\"left\">String (entrada é qualquer objeto Python que é convertido usando a função repr) \t|"
   ]
  },
  {
   "cell_type": "code",
   "execution_count": 2,
   "metadata": {},
   "outputs": [
    {
     "name": "stdout",
     "output_type": "stream",
     "text": [
      "Exemplos: \n",
      "\n",
      "Numero inteiro: 55\n",
      "Numero inteiro com 3 casas:  55\n",
      "Inteiro com 3 casas e zeros a esquerda: 055\n",
      "Inteiro escrito em hexadecimal: 37\n",
      "Ponto flutuante: 3.141593\n",
      "Ponto flutuante com 12 decimais: 3.141592653590\n",
      "Ponto flutuante com 10 caracteres:   3.141593\n",
      "Ponto flutuante em notacao cientifica: 3.141593e+00\n",
      "String com tamanho maximo definido: Ped\n"
     ]
    }
   ],
   "source": [
    "print(\"Exemplos: \\n\")\n",
    "print(\"Numero inteiro: %d\" % 55)\n",
    "print(\"Numero inteiro com 3 casas: %3d\" % 55)\n",
    "print(\"Inteiro com 3 casas e zeros a esquerda: %03d\" % 55)\n",
    "print(\"Inteiro escrito em hexadecimal: %x\" % 55)\n",
    "from math import pi\n",
    "print(\"Ponto flutuante: %f\" % pi)\n",
    "print(\"Ponto flutuante com 12 decimais: %.12f\" % pi)\n",
    "print(\"Ponto flutuante com 10 caracteres: %10f\" % pi)\n",
    "print(\"Ponto flutuante em notacao cientifica: %10e\" % pi)\n",
    "print(\"String com tamanho maximo definido: %.3s\" % \"Pedro\")"
   ]
  },
  {
   "cell_type": "code",
   "execution_count": null,
   "metadata": {},
   "outputs": [],
   "source": []
  }
 ],
 "metadata": {
  "kernelspec": {
   "display_name": "Python 3",
   "language": "python",
   "name": "python3"
  },
  "language_info": {
   "codemirror_mode": {
    "name": "ipython",
    "version": 3
   },
   "file_extension": ".py",
   "mimetype": "text/x-python",
   "name": "python",
   "nbconvert_exporter": "python",
   "pygments_lexer": "ipython3",
   "version": "3.7.3"
  }
 },
 "nbformat": 4,
 "nbformat_minor": 2
}
