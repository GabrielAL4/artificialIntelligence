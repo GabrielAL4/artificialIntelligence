{
 "cells": [
  {
   "cell_type": "markdown",
   "metadata": {},
   "source": [
    "# Mini Curso de Python\n",
    "\n",
    "\n",
    "## Funções"
   ]
  },
  {
   "cell_type": "markdown",
   "metadata": {},
   "source": [
    "### Para que funções ?\n",
    "\n",
    "* Um problema é dividido em diversos sub-problemas\n",
    "* As soluções dos sub-problemas são combinadas numa solução do problema maior\n",
    "* Cada sub-programa é invocado por meio de um identificador e uma lista de entradas\n",
    "* Permite especificar como um problema pode ser resolvido em geral\n",
    "* O mesmo sub-programa pode ser invocado para resolver diversos problemas de mesma natureza mas com valores específicos diferentes\n",
    "\n",
    "**Formato Geral:**  \n",
    "def _nome_ (_arg, arg, arg_):  \n",
    "&nbsp;comando  \n",
    "    ...  \n",
    "    comando  \n",
    "\n",
    "\n"
   ]
  },
  {
   "cell_type": "code",
   "execution_count": null,
   "metadata": {},
   "outputs": [],
   "source": []
  }
 ],
 "metadata": {
  "kernelspec": {
   "display_name": "Python 3",
   "language": "python",
   "name": "python3"
  },
  "language_info": {
   "codemirror_mode": {
    "name": "ipython",
    "version": 3
   },
   "file_extension": ".py",
   "mimetype": "text/x-python",
   "name": "python",
   "nbconvert_exporter": "python",
   "pygments_lexer": "ipython3",
   "version": "3.7.3"
  }
 },
 "nbformat": 4,
 "nbformat_minor": 2
}
