{
 "cells": [
  {
   "cell_type": "markdown",
   "id": "13e6219d",
   "metadata": {},
   "source": [
    "# Processamento de linguagem Natural\n",
    "### Um conjunto de dados para Processamento de Linguagem Natural (PLN) é uma coleção de textos ou amostras de linguagem utilizada para treinar, validar e testar modelos de aprendizado de máquina voltados para o processamento de texto. Características desejáveis incluem representatividade, diversidade linguística, tamanho adequado, equilíbrio de classes, anotações de qualidade, variedade de tarefas, atualização regular e considerações de privacidade e ética. Esses conjuntos de dados são essenciais para desenvolver modelos de PLN eficazes e robustos."
   ]
  },
  {
   "cell_type": "markdown",
   "id": "66a41b5c",
   "metadata": {},
   "source": [
    "### Abaixo temos um exemplo em código usando a biblioteca nltk (Natural Language Toolkit) "
   ]
  },
  {
   "cell_type": "code",
   "execution_count": 5,
   "id": "a022daf3",
   "metadata": {},
   "outputs": [
    {
     "name": "stdout",
     "output_type": "stream",
     "text": [
      "Exemplo 1 : The Fulton County Grand Jury said Friday an investigation of Atlanta's recent primary election produced `` no evidence '' that any irregularities took place .\n",
      "Exemplo 2 : The jury further said in term-end presentments that the City Executive Committee , which had over-all charge of the election , `` deserves the praise and thanks of the City of Atlanta '' for the manner in which the election was conducted .\n",
      "Exemplo 3 : The September-October term jury had been charged by Fulton Superior Court Judge Durwood Pye to investigate reports of possible `` irregularities '' in the hard-fought primary which was won by Mayor-nominate Ivan Allen Jr. .\n",
      "Exemplo 4 : `` Only a relative handful of such reports was received '' , the jury said , `` considering the widespread interest in the election , the number of voters and the size of this city '' .\n",
      "Exemplo 5 : The jury said it did find that many of Georgia's registration and election laws `` are outmoded or inadequate and often ambiguous '' .\n"
     ]
    },
    {
     "name": "stderr",
     "output_type": "stream",
     "text": [
      "[nltk_data] Downloading package brown to /home/gabriel/nltk_data...\n",
      "[nltk_data]   Package brown is already up-to-date!\n"
     ]
    }
   ],
   "source": [
    "import nltk\n",
    "from nltk.corpus import brown\n",
    "\n",
    "# Baixar o corpus 'brown' se ainda não estiver baixado\n",
    "nltk.download('brown')\n",
    "\n",
    "# Carregar o corpus 'brown'\n",
    "corpus = brown.sents(categories='news')  # Vamos usar apenas a categoria 'news' para exemplo\n",
    "\n",
    "# Exibir alguns exemplos de frases do corpus\n",
    "for i in range(5):\n",
    "    print('Exemplo', i+1, ':', ' '.join(corpus[i]))\n",
    "\n"
   ]
  },
  {
   "cell_type": "markdown",
   "id": "af7d79a4",
   "metadata": {},
   "source": [
    "# char-RNN (Character-Level Recurrent Neural Network)\n",
    "\n",
    "### Char-RNN (Character-Level Recurrent Neural Network) é um tipo de rede neural recorrente projetado para processar e gerar texto com base em caracteres individuais. Em contraste com abordagens de processamento de linguagem natural que operam em níveis de palavra, o char-RNN trabalha diretamente com sequências de caracteres. "
   ]
  },
  {
   "cell_type": "code",
   "execution_count": null,
   "id": "816f8604",
   "metadata": {},
   "outputs": [
    {
     "name": "stderr",
     "output_type": "stream",
     "text": [
      "[nltk_data] Downloading package brown to /home/gabriel/nltk_data...\n",
      "[nltk_data]   Package brown is already up-to-date!\n"
     ]
    },
    {
     "name": "stdout",
     "output_type": "stream",
     "text": [
      "Epoch 1/20\n"
     ]
    },
    {
     "name": "stderr",
     "output_type": "stream",
     "text": [
      "2023-11-24 20:50:43.327794: W external/local_tsl/tsl/framework/cpu_allocator_impl.cc:83] Allocation of 564832320 exceeds 10% of free system memory.\n",
      "2023-11-24 20:50:43.734092: W external/local_tsl/tsl/framework/cpu_allocator_impl.cc:83] Allocation of 14120808 exceeds 10% of free system memory.\n"
     ]
    },
    {
     "name": "stdout",
     "output_type": "stream",
     "text": [
      "1415/1415 [==============================] - 104s 73ms/step - loss: 2.6438\n",
      "Epoch 2/20\n",
      "1415/1415 [==============================] - 103s 73ms/step - loss: 2.2768\n",
      "Epoch 3/20\n",
      "1415/1415 [==============================] - 110s 78ms/step - loss: 2.1620\n",
      "Epoch 4/20\n",
      "1383/1415 [============================>.] - ETA: 2s - loss: 2.0871"
     ]
    }
   ],
   "source": [
    "import numpy as np\n",
    "from tensorflow.keras.models import Sequential\n",
    "from tensorflow.keras.layers import LSTM, Dense\n",
    "import nltk\n",
    "from nltk.corpus import brown\n",
    "\n",
    "# Baixar o corpus 'brown' se ainda não estiver baixado\n",
    "nltk.download('brown')\n",
    "\n",
    "# Carregar o corpus 'brown'\n",
    "corpus = brown.sents(categories='news')\n",
    "text = ' '.join([' '.join(sentence) for sentence in corpus])\n",
    "\n",
    "# Criar um conjunto de dados de treinamento\n",
    "chars = sorted(list(set(text)))\n",
    "char_indices = dict((c, i) for i, c in enumerate(chars))\n",
    "indices_char = dict((i, c) for i, c in enumerate(chars))\n",
    "max_len = 40  # Comprimento máximo da sequência de entrada\n",
    "step = 3  # Passo para criar sequências de entrada\n",
    "\n",
    "sentences = []\n",
    "next_chars = []\n",
    "for i in range(0, len(text) - max_len, step):\n",
    "    sentences.append(text[i:i + max_len])\n",
    "    next_chars.append(text[i + max_len])\n",
    "\n",
    "# Vetorização dos dados\n",
    "x = np.zeros((len(sentences), max_len, len(chars)), dtype=np.int8)\n",
    "y = np.zeros((len(sentences), len(chars)), dtype=np.int8)\n",
    "for i, sentence in enumerate(sentences):\n",
    "    for t, char in enumerate(sentence):\n",
    "        x[i, t, char_indices[char]] = 1\n",
    "    y[i, char_indices[next_chars[i]]] = 1\n",
    "\n",
    "# Definir o modelo char-RNN\n",
    "model = Sequential()\n",
    "model.add(LSTM(128, input_shape=(max_len, len(chars))))\n",
    "model.add(Dense(len(chars), activation='softmax'))\n",
    "\n",
    "# Compilar o modelo\n",
    "model.compile(loss='categorical_crossentropy', optimizer='adam')\n",
    "\n",
    "# Treinar o modelo\n",
    "model.fit(x, y, batch_size=128, epochs=20)\n",
    "\n",
    "# Função para gerar texto usando o modelo treinado\n",
    "def generate_text(seed_text, model, max_len, char_indices, indices_char):\n",
    "    generated_text = seed_text\n",
    "    for _ in range(400):\n",
    "        x_pred = np.zeros((1, max_len, len(chars)), dtype=np.int8)\n",
    "        for t, char in enumerate(seed_text):\n",
    "            x_pred[0, t, char_indices[char]] = 1.\n",
    "\n",
    "        preds = model.predict(x_pred, verbose=0)[0]\n",
    "        next_index = np.argmax(preds)\n",
    "        next_char = indices_char[next_index]\n",
    "\n",
    "        seed_text = seed_text[1:] + next_char\n",
    "        generated_text += next_char\n",
    "\n",
    "    return generated_text\n",
    "\n",
    "# Gerar texto usando o modelo treinado\n",
    "seed_text = \"The weather is\"\n",
    "generated_text = generate_text(seed_text, model, max_len, char_indices, indices_char)\n",
    "print(generated_text)\n"
   ]
  }
 ],
 "metadata": {
  "kernelspec": {
   "display_name": "Python 3 (ipykernel)",
   "language": "python",
   "name": "python3"
  },
  "language_info": {
   "codemirror_mode": {
    "name": "ipython",
    "version": 3
   },
   "file_extension": ".py",
   "mimetype": "text/x-python",
   "name": "python",
   "nbconvert_exporter": "python",
   "pygments_lexer": "ipython3",
   "version": "3.11.4"
  }
 },
 "nbformat": 4,
 "nbformat_minor": 5
}
