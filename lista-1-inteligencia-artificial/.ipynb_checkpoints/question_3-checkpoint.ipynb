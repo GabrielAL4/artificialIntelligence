{
 "cells": [
  {
   "cell_type": "code",
   "execution_count": 1,
   "id": "9b4867be",
   "metadata": {},
   "outputs": [
    {
     "name": "stdout",
     "output_type": "stream",
     "text": [
      "Nomes das colunas do DataFrame transposto:\n",
      "['Meses', 'Temperatura média (°C)', 'Temperatura mínima (°C)', 'Temperatura máxima (°C)', 'Chuva (mm)', 'Umidade(%)', 'Coluna7', 'Coluna8', 'Coluna9']\n"
     ]
    }
   ],
   "source": [
    "import pandas as pd\n",
    "\n",
    "# Ler o arquivo Excel\n",
    "dataFrame = pd.read_excel('Dados_climaticos_historicos.xlsx', sheet_name='Historico_Clima_Macae', header=3)\n",
    "\n",
    "# Transpor o DataFrame para inverter linhas e colunas\n",
    "dataFrame_transposto = dataFrame.T\n",
    "\n",
    "# Remover a primeira linha (contador)\n",
    "dataFrame_transposto = dataFrame_transposto.iloc[1:]\n",
    "\n",
    "# Reiniciar o índice após a remoção da primeira linha\n",
    "dataFrame_transposto.reset_index(drop=True, inplace=True)\n",
    "\n",
    "# Definir nomes de colunas para o DataFrame transposto (substitua com nomes reais)\n",
    "dataFrame_transposto.columns = ['Meses', 'Temperatura média (°C)', 'Temperatura mínima (°C)', 'Temperatura máxima (°C)', 'Chuva (mm)', 'Umidade(%)', 'Coluna7', 'Coluna8', 'Coluna9']\n",
    "\n",
    "# Escrever o DataFrame transposto em um arquivo de texto\n",
    "with open('Dados_climaticos_historicos.txt', 'w') as outfile:\n",
    "    dataFrame_transposto.to_string(outfile)\n",
    "\n",
    "# Exibir os nomes das colunas do DataFrame transposto\n",
    "print(\"Nomes das colunas do DataFrame transposto:\")\n",
    "print(dataFrame_transposto.columns.tolist())\n"
   ]
  },
  {
   "cell_type": "code",
   "execution_count": 2,
   "id": "9341f74f",
   "metadata": {},
   "outputs": [],
   "source": [
    "# Instanciar listas com os dados desejados\n",
    "meses = dataFrame_transposto['Meses'].tolist()\n",
    "temperaturas_min = dataFrame_transposto['Temperatura mínima (°C)'].tolist()\n",
    "temperaturas_max = dataFrame_transposto['Temperatura máxima (°C)'].tolist()\n",
    "temperaturas_media = dataFrame_transposto['Temperatura média (°C)'].tolist()\n"
   ]
  },
  {
   "cell_type": "code",
   "execution_count": 3,
   "id": "74002a04",
   "metadata": {},
   "outputs": [
    {
     "name": "stdout",
     "output_type": "stream",
     "text": [
      "Conteúdo do dicionário de dados:\n",
      "Meses : [25.8, 26.0, 25.5, 24.1, 22.0, 21.2, 20.7, 21.0, 21.8, 22.9, 23.5, 24.9]\n",
      "Temperatura mínima (°C) : [29.1, 29.5, 28.5, 27.1, 25.0, 24.5, 24.2, 24.7, 25.5, 26.4, 26.5, 28.0]\n",
      "Temperatura máxima (°C) : [175.0, 105.0, 154.0, 85.0, 60.0, 31.0, 32.0, 32.0, 66.0, 98.0, 186.0, 198.0]\n",
      "Temperatura média (°C) : [23.5, 23.6, 23.3, 21.9, 19.6, 18.5, 17.9, 18.3, 19.2, 20.5, 21.4, 22.7]\n"
     ]
    }
   ],
   "source": [
    "# Criar um dicionário com os dados\n",
    "dados_dict = {\n",
    "    'Meses': meses,\n",
    "    'Temperatura mínima (°C)': temperaturas_min,\n",
    "    'Temperatura máxima (°C)': temperaturas_max,\n",
    "    'Temperatura média (°C)': temperaturas_media\n",
    "}\n",
    "\n",
    "# Exibir o conteúdo do dicionário\n",
    "print(\"Conteúdo do dicionário de dados:\")\n",
    "for key, value in dados_dict.items():\n",
    "    print(key, \":\", value)\n"
   ]
  },
  {
   "cell_type": "code",
   "execution_count": 4,
   "id": "c28f7bd8",
   "metadata": {},
   "outputs": [
    {
     "ename": "NameError",
     "evalue": "name 'plt' is not defined",
     "output_type": "error",
     "traceback": [
      "\u001b[0;31m---------------------------------------------------------------------------\u001b[0m",
      "\u001b[0;31mNameError\u001b[0m                                 Traceback (most recent call last)",
      "Cell \u001b[0;32mIn[4], line 2\u001b[0m\n\u001b[1;32m      1\u001b[0m \u001b[38;5;66;03m# Plotar um gráfico das temperaturas ao longo dos meses\u001b[39;00m\n\u001b[0;32m----> 2\u001b[0m plt\u001b[38;5;241m.\u001b[39mfigure(figsize\u001b[38;5;241m=\u001b[39m(\u001b[38;5;241m10\u001b[39m, \u001b[38;5;241m6\u001b[39m))\n\u001b[1;32m      3\u001b[0m plt\u001b[38;5;241m.\u001b[39mplot(meses, temperaturas_min, label\u001b[38;5;241m=\u001b[39m\u001b[38;5;124m'\u001b[39m\u001b[38;5;124mTemperatura Mínima\u001b[39m\u001b[38;5;124m'\u001b[39m, marker\u001b[38;5;241m=\u001b[39m\u001b[38;5;124m'\u001b[39m\u001b[38;5;124mo\u001b[39m\u001b[38;5;124m'\u001b[39m)\n\u001b[1;32m      4\u001b[0m plt\u001b[38;5;241m.\u001b[39mplot(meses, temperaturas_max, label\u001b[38;5;241m=\u001b[39m\u001b[38;5;124m'\u001b[39m\u001b[38;5;124mTemperatura Máxima\u001b[39m\u001b[38;5;124m'\u001b[39m, marker\u001b[38;5;241m=\u001b[39m\u001b[38;5;124m'\u001b[39m\u001b[38;5;124mo\u001b[39m\u001b[38;5;124m'\u001b[39m)\n",
      "\u001b[0;31mNameError\u001b[0m: name 'plt' is not defined"
     ]
    }
   ],
   "source": [
    "# Plotar um gráfico das temperaturas ao longo dos meses\n",
    "plt.figure(figsize=(10, 6))\n",
    "plt.plot(meses, temperaturas_min, label='Temperatura Mínima', marker='o')\n",
    "plt.plot(meses, temperaturas_max, label='Temperatura Máxima', marker='o')\n",
    "plt.plot(meses, temperaturas_media, label='Temperatura Média', marker='o')\n",
    "plt.xlabel('Mês')\n",
    "plt.ylabel('Temperatura (°C)')\n",
    "plt.title('Temperaturas ao Longo dos Meses')\n",
    "plt.legend()\n",
    "plt.grid(True)\n",
    "plt.xticks(rotation=45)\n",
    "plt.tight_layout()"
   ]
  },
  {
   "cell_type": "code",
   "execution_count": null,
   "id": "a00d214d",
   "metadata": {},
   "outputs": [],
   "source": [
    "\n",
    "# Exibir o gráfico\n",
    "plt.show()"
   ]
  }
 ],
 "metadata": {
  "kernelspec": {
   "display_name": "Python 3 (ipykernel)",
   "language": "python",
   "name": "python3"
  },
  "language_info": {
   "codemirror_mode": {
    "name": "ipython",
    "version": 3
   },
   "file_extension": ".py",
   "mimetype": "text/x-python",
   "name": "python",
   "nbconvert_exporter": "python",
   "pygments_lexer": "ipython3",
   "version": "3.11.4"
  }
 },
 "nbformat": 4,
 "nbformat_minor": 5
}
